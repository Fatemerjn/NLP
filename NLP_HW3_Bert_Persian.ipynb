{
 "cells": [
  {
   "cell_type": "code",
   "execution_count": null,
   "metadata": {},
   "outputs": [
    {
     "name": "stderr",
     "output_type": "stream",
     "text": [
      "Some weights of BertForSequenceClassification were not initialized from the model checkpoint at HooshvareLab/bert-fa-base-uncased and are newly initialized: ['classifier.bias', 'classifier.weight']\n",
      "You should probably TRAIN this model on a down-stream task to be able to use it for predictions and inference.\n",
      "/var/folders/k8/xdc9g2pn7v561ty2fk116vjh0000gn/T/ipykernel_6271/317131113.py:58: SettingWithCopyWarning: \n",
      "A value is trying to be set on a copy of a slice from a DataFrame.\n",
      "Try using .loc[row_indexer,col_indexer] = value instead\n",
      "\n",
      "See the caveats in the documentation: https://pandas.pydata.org/pandas-docs/stable/user_guide/indexing.html#returning-a-view-versus-a-copy\n",
      "  df_filtered['Genre'] = label_encoder.fit_transform(df_filtered['Genre'])\n",
      "/Users/mohammadmahdi/Documents/test/nlp/lib/python3.12/site-packages/transformers/training_args.py:1494: FutureWarning: `evaluation_strategy` is deprecated and will be removed in version 4.46 of 🤗 Transformers. Use `eval_strategy` instead\n",
      "  warnings.warn(\n",
      "/Users/mohammadmahdi/Documents/test/nlp/lib/python3.12/site-packages/transformers/training_args.py:1509: FutureWarning: using `no_cuda` is deprecated and will be removed in version 5.0 of 🤗 Transformers. Use `use_cpu` instead\n",
      "  warnings.warn(\n",
      "  2%|▏         | 10/420 [00:19<12:22,  1.81s/it]"
     ]
    },
    {
     "name": "stdout",
     "output_type": "stream",
     "text": [
      "{'loss': 2.4798, 'grad_norm': 8.154491424560547, 'learning_rate': 1.0000000000000002e-06, 'epoch': 0.24}\n"
     ]
    },
    {
     "name": "stderr",
     "output_type": "stream",
     "text": [
      "  5%|▍         | 20/420 [00:37<12:15,  1.84s/it]"
     ]
    },
    {
     "name": "stdout",
     "output_type": "stream",
     "text": [
      "{'loss': 2.4076, 'grad_norm': 9.875574111938477, 'learning_rate': 2.0000000000000003e-06, 'epoch': 0.48}\n"
     ]
    },
    {
     "name": "stderr",
     "output_type": "stream",
     "text": [
      "  7%|▋         | 30/420 [00:55<11:49,  1.82s/it]"
     ]
    },
    {
     "name": "stdout",
     "output_type": "stream",
     "text": [
      "{'loss': 2.3475, 'grad_norm': 8.27158260345459, 'learning_rate': 3e-06, 'epoch': 0.71}\n"
     ]
    },
    {
     "name": "stderr",
     "output_type": "stream",
     "text": [
      " 10%|▉         | 40/420 [01:13<11:37,  1.83s/it]"
     ]
    },
    {
     "name": "stdout",
     "output_type": "stream",
     "text": [
      "{'loss': 2.2264, 'grad_norm': 9.25333023071289, 'learning_rate': 4.000000000000001e-06, 'epoch': 0.95}\n"
     ]
    },
    {
     "name": "stderr",
     "output_type": "stream",
     "text": [
      " 10%|█         | 42/420 [01:17<11:26,  1.82s/it]\n",
      " 10%|█         | 42/420 [01:21<11:26,  1.82s/it]"
     ]
    },
    {
     "name": "stdout",
     "output_type": "stream",
     "text": [
      "{'eval_loss': 2.214942216873169, 'eval_runtime': 4.5468, 'eval_samples_per_second': 36.949, 'eval_steps_per_second': 2.419, 'epoch': 1.0}\n"
     ]
    },
    {
     "name": "stderr",
     "output_type": "stream",
     "text": [
      " 12%|█▏        | 50/420 [01:38<12:26,  2.02s/it]"
     ]
    },
    {
     "name": "stdout",
     "output_type": "stream",
     "text": [
      "{'loss': 2.1336, 'grad_norm': 7.887829303741455, 'learning_rate': 5e-06, 'epoch': 1.19}\n"
     ]
    },
    {
     "name": "stderr",
     "output_type": "stream",
     "text": [
      " 14%|█▍        | 60/420 [01:56<11:02,  1.84s/it]"
     ]
    },
    {
     "name": "stdout",
     "output_type": "stream",
     "text": [
      "{'loss': 2.0291, 'grad_norm': 6.855902194976807, 'learning_rate': 6e-06, 'epoch': 1.43}\n"
     ]
    },
    {
     "name": "stderr",
     "output_type": "stream",
     "text": [
      " 17%|█▋        | 70/420 [02:14<10:35,  1.82s/it]"
     ]
    },
    {
     "name": "stdout",
     "output_type": "stream",
     "text": [
      "{'loss': 1.9442, 'grad_norm': 6.059995174407959, 'learning_rate': 7.000000000000001e-06, 'epoch': 1.67}\n"
     ]
    },
    {
     "name": "stderr",
     "output_type": "stream",
     "text": [
      " 19%|█▉        | 80/420 [02:33<10:12,  1.80s/it]"
     ]
    },
    {
     "name": "stdout",
     "output_type": "stream",
     "text": [
      "{'loss': 2.0672, 'grad_norm': 6.146152019500732, 'learning_rate': 8.000000000000001e-06, 'epoch': 1.9}\n"
     ]
    },
    {
     "name": "stderr",
     "output_type": "stream",
     "text": [
      " 20%|██        | 84/420 [02:40<10:00,  1.79s/it]\n",
      " 20%|██        | 84/420 [02:44<10:00,  1.79s/it]"
     ]
    },
    {
     "name": "stdout",
     "output_type": "stream",
     "text": [
      "{'eval_loss': 2.004823923110962, 'eval_runtime': 4.4581, 'eval_samples_per_second': 37.685, 'eval_steps_per_second': 2.467, 'epoch': 2.0}\n"
     ]
    },
    {
     "name": "stderr",
     "output_type": "stream",
     "text": [
      " 21%|██▏       | 90/420 [02:56<11:29,  2.09s/it]"
     ]
    },
    {
     "name": "stdout",
     "output_type": "stream",
     "text": [
      "{'loss': 1.9361, 'grad_norm': 6.057654857635498, 'learning_rate': 9e-06, 'epoch': 2.14}\n"
     ]
    },
    {
     "name": "stderr",
     "output_type": "stream",
     "text": [
      " 24%|██▍       | 100/420 [03:14<09:44,  1.83s/it]"
     ]
    },
    {
     "name": "stdout",
     "output_type": "stream",
     "text": [
      "{'loss': 1.8161, 'grad_norm': 5.955370903015137, 'learning_rate': 1e-05, 'epoch': 2.38}\n"
     ]
    },
    {
     "name": "stderr",
     "output_type": "stream",
     "text": [
      " 26%|██▌       | 110/420 [03:32<09:19,  1.80s/it]"
     ]
    },
    {
     "name": "stdout",
     "output_type": "stream",
     "text": [
      "{'loss': 1.7937, 'grad_norm': 5.314672946929932, 'learning_rate': 1.1000000000000001e-05, 'epoch': 2.62}\n"
     ]
    },
    {
     "name": "stderr",
     "output_type": "stream",
     "text": [
      " 29%|██▊       | 120/420 [03:50<09:01,  1.80s/it]"
     ]
    },
    {
     "name": "stdout",
     "output_type": "stream",
     "text": [
      "{'loss': 1.9645, 'grad_norm': 7.6002020835876465, 'learning_rate': 1.2e-05, 'epoch': 2.86}\n"
     ]
    },
    {
     "name": "stderr",
     "output_type": "stream",
     "text": [
      " 30%|███       | 126/420 [04:01<08:42,  1.78s/it]\n",
      " 30%|███       | 126/420 [04:06<08:42,  1.78s/it]"
     ]
    },
    {
     "name": "stdout",
     "output_type": "stream",
     "text": [
      "{'eval_loss': 2.0489799976348877, 'eval_runtime': 4.4513, 'eval_samples_per_second': 37.742, 'eval_steps_per_second': 2.471, 'epoch': 3.0}\n"
     ]
    },
    {
     "name": "stderr",
     "output_type": "stream",
     "text": [
      " 31%|███       | 130/420 [04:14<11:34,  2.39s/it]"
     ]
    },
    {
     "name": "stdout",
     "output_type": "stream",
     "text": [
      "{'loss': 1.8888, 'grad_norm': 6.730014801025391, 'learning_rate': 1.3000000000000001e-05, 'epoch': 3.1}\n"
     ]
    },
    {
     "name": "stderr",
     "output_type": "stream",
     "text": [
      " 33%|███▎      | 140/420 [04:32<08:33,  1.83s/it]"
     ]
    },
    {
     "name": "stdout",
     "output_type": "stream",
     "text": [
      "{'loss': 1.7554, 'grad_norm': 6.691455841064453, 'learning_rate': 1.4000000000000001e-05, 'epoch': 3.33}\n"
     ]
    },
    {
     "name": "stderr",
     "output_type": "stream",
     "text": [
      " 36%|███▌      | 150/420 [04:50<08:10,  1.82s/it]"
     ]
    },
    {
     "name": "stdout",
     "output_type": "stream",
     "text": [
      "{'loss': 1.898, 'grad_norm': 8.848814010620117, 'learning_rate': 1.5e-05, 'epoch': 3.57}\n"
     ]
    },
    {
     "name": "stderr",
     "output_type": "stream",
     "text": [
      " 38%|███▊      | 160/420 [05:09<07:48,  1.80s/it]"
     ]
    },
    {
     "name": "stdout",
     "output_type": "stream",
     "text": [
      "{'loss': 1.7452, 'grad_norm': 7.0325117111206055, 'learning_rate': 1.6000000000000003e-05, 'epoch': 3.81}\n"
     ]
    },
    {
     "name": "stderr",
     "output_type": "stream",
     "text": [
      " 40%|████      | 168/420 [05:23<07:28,  1.78s/it]\n",
      " 40%|████      | 168/420 [05:27<07:28,  1.78s/it]"
     ]
    },
    {
     "name": "stdout",
     "output_type": "stream",
     "text": [
      "{'eval_loss': 1.9890002012252808, 'eval_runtime': 4.4532, 'eval_samples_per_second': 37.725, 'eval_steps_per_second': 2.47, 'epoch': 4.0}\n"
     ]
    },
    {
     "name": "stderr",
     "output_type": "stream",
     "text": [
      " 40%|████      | 170/420 [05:32<12:25,  2.98s/it]"
     ]
    },
    {
     "name": "stdout",
     "output_type": "stream",
     "text": [
      "{'loss': 1.6958, 'grad_norm': 10.690324783325195, 'learning_rate': 1.7000000000000003e-05, 'epoch': 4.05}\n"
     ]
    },
    {
     "name": "stderr",
     "output_type": "stream",
     "text": [
      " 43%|████▎     | 180/420 [05:50<07:25,  1.85s/it]"
     ]
    },
    {
     "name": "stdout",
     "output_type": "stream",
     "text": [
      "{'loss': 1.5503, 'grad_norm': 6.453670024871826, 'learning_rate': 1.8e-05, 'epoch': 4.29}\n"
     ]
    },
    {
     "name": "stderr",
     "output_type": "stream",
     "text": [
      " 45%|████▌     | 190/420 [06:08<06:55,  1.81s/it]"
     ]
    },
    {
     "name": "stdout",
     "output_type": "stream",
     "text": [
      "{'loss': 1.5777, 'grad_norm': 8.7909574508667, 'learning_rate': 1.9e-05, 'epoch': 4.52}\n"
     ]
    },
    {
     "name": "stderr",
     "output_type": "stream",
     "text": [
      " 48%|████▊     | 200/420 [06:26<06:36,  1.80s/it]"
     ]
    },
    {
     "name": "stdout",
     "output_type": "stream",
     "text": [
      "{'loss': 1.6047, 'grad_norm': 7.619956016540527, 'learning_rate': 2e-05, 'epoch': 4.76}\n"
     ]
    },
    {
     "name": "stderr",
     "output_type": "stream",
     "text": [
      " 50%|█████     | 210/420 [06:44<06:15,  1.79s/it]"
     ]
    },
    {
     "name": "stdout",
     "output_type": "stream",
     "text": [
      "{'loss': 1.604, 'grad_norm': 9.639723777770996, 'learning_rate': 2.1e-05, 'epoch': 5.0}\n"
     ]
    },
    {
     "name": "stderr",
     "output_type": "stream",
     "text": [
      "\n",
      " 50%|█████     | 210/420 [06:49<06:15,  1.79s/it]"
     ]
    },
    {
     "name": "stdout",
     "output_type": "stream",
     "text": [
      "{'eval_loss': 2.0035457611083984, 'eval_runtime': 4.4482, 'eval_samples_per_second': 37.768, 'eval_steps_per_second': 2.473, 'epoch': 5.0}\n"
     ]
    },
    {
     "name": "stderr",
     "output_type": "stream",
     "text": [
      " 52%|█████▏    | 220/420 [07:08<06:08,  1.84s/it]"
     ]
    },
    {
     "name": "stdout",
     "output_type": "stream",
     "text": [
      "{'loss': 1.3032, 'grad_norm': 6.409624099731445, 'learning_rate': 2.2000000000000003e-05, 'epoch': 5.24}\n"
     ]
    },
    {
     "name": "stderr",
     "output_type": "stream",
     "text": [
      " 55%|█████▍    | 230/420 [07:26<05:43,  1.81s/it]"
     ]
    },
    {
     "name": "stdout",
     "output_type": "stream",
     "text": [
      "{'loss': 1.4033, 'grad_norm': 14.291940689086914, 'learning_rate': 2.3000000000000003e-05, 'epoch': 5.48}\n"
     ]
    },
    {
     "name": "stderr",
     "output_type": "stream",
     "text": [
      " 57%|█████▋    | 240/420 [07:44<05:25,  1.81s/it]"
     ]
    },
    {
     "name": "stdout",
     "output_type": "stream",
     "text": [
      "{'loss': 1.3546, 'grad_norm': 8.347304344177246, 'learning_rate': 2.4e-05, 'epoch': 5.71}\n"
     ]
    },
    {
     "name": "stderr",
     "output_type": "stream",
     "text": [
      " 60%|█████▉    | 250/420 [08:02<05:06,  1.80s/it]"
     ]
    },
    {
     "name": "stdout",
     "output_type": "stream",
     "text": [
      "{'loss': 1.2451, 'grad_norm': 10.455099105834961, 'learning_rate': 2.5e-05, 'epoch': 5.95}\n"
     ]
    },
    {
     "name": "stderr",
     "output_type": "stream",
     "text": [
      " 60%|██████    | 252/420 [08:06<04:58,  1.78s/it]\n",
      " 60%|██████    | 252/420 [08:10<04:58,  1.78s/it]"
     ]
    },
    {
     "name": "stdout",
     "output_type": "stream",
     "text": [
      "{'eval_loss': 1.989188551902771, 'eval_runtime': 4.4369, 'eval_samples_per_second': 37.865, 'eval_steps_per_second': 2.479, 'epoch': 6.0}\n"
     ]
    },
    {
     "name": "stderr",
     "output_type": "stream",
     "text": [
      " 62%|██████▏   | 260/420 [08:26<05:11,  1.95s/it]"
     ]
    },
    {
     "name": "stdout",
     "output_type": "stream",
     "text": [
      "{'loss': 1.1007, 'grad_norm': 6.586605072021484, 'learning_rate': 2.6000000000000002e-05, 'epoch': 6.19}\n"
     ]
    },
    {
     "name": "stderr",
     "output_type": "stream",
     "text": [
      " 64%|██████▍   | 270/420 [08:44<04:32,  1.81s/it]"
     ]
    },
    {
     "name": "stdout",
     "output_type": "stream",
     "text": [
      "{'loss': 1.0584, 'grad_norm': 6.1191582679748535, 'learning_rate': 2.7000000000000002e-05, 'epoch': 6.43}\n"
     ]
    },
    {
     "name": "stderr",
     "output_type": "stream",
     "text": [
      " 67%|██████▋   | 280/420 [09:02<04:12,  1.80s/it]"
     ]
    },
    {
     "name": "stdout",
     "output_type": "stream",
     "text": [
      "{'loss': 1.1321, 'grad_norm': 4.521974563598633, 'learning_rate': 2.8000000000000003e-05, 'epoch': 6.67}\n"
     ]
    },
    {
     "name": "stderr",
     "output_type": "stream",
     "text": [
      " 69%|██████▉   | 290/420 [09:20<03:56,  1.82s/it]"
     ]
    },
    {
     "name": "stdout",
     "output_type": "stream",
     "text": [
      "{'loss': 1.0611, 'grad_norm': 5.61923360824585, 'learning_rate': 2.9e-05, 'epoch': 6.9}\n"
     ]
    },
    {
     "name": "stderr",
     "output_type": "stream",
     "text": [
      " 70%|███████   | 294/420 [09:27<03:45,  1.79s/it]\n",
      " 70%|███████   | 294/420 [09:32<03:45,  1.79s/it]"
     ]
    },
    {
     "name": "stdout",
     "output_type": "stream",
     "text": [
      "{'eval_loss': 2.239558458328247, 'eval_runtime': 4.4907, 'eval_samples_per_second': 37.411, 'eval_steps_per_second': 2.45, 'epoch': 7.0}\n",
      "Stopping early\n"
     ]
    },
    {
     "name": "stderr",
     "output_type": "stream",
     "text": [
      " 70%|███████   | 294/420 [09:33<04:05,  1.95s/it]\n"
     ]
    },
    {
     "name": "stdout",
     "output_type": "stream",
     "text": [
      "{'train_runtime': 573.939, 'train_samples_per_second': 11.691, 'train_steps_per_second': 0.732, 'train_loss': 1.7212261294021087, 'epoch': 7.0}\n"
     ]
    },
    {
     "name": "stderr",
     "output_type": "stream",
     "text": [
      "100%|██████████| 11/11 [00:04<00:00,  2.74it/s]\n"
     ]
    },
    {
     "name": "stdout",
     "output_type": "stream",
     "text": [
      "Stopping early\n"
     ]
    },
    {
     "name": "stderr",
     "output_type": "stream",
     "text": [
      "100%|██████████| 11/11 [00:04<00:00,  2.74it/s]\n",
      "/Users/mohammadmahdi/Documents/test/nlp/lib/python3.12/site-packages/sklearn/metrics/_classification.py:1531: UndefinedMetricWarning: Precision is ill-defined and being set to 0.0 in labels with no predicted samples. Use `zero_division` parameter to control this behavior.\n",
      "  _warn_prf(average, modifier, f\"{metric.capitalize()} is\", len(result))\n",
      "/Users/mohammadmahdi/Documents/test/nlp/lib/python3.12/site-packages/sklearn/metrics/_classification.py:1531: UndefinedMetricWarning: Precision is ill-defined and being set to 0.0 in labels with no predicted samples. Use `zero_division` parameter to control this behavior.\n",
      "  _warn_prf(average, modifier, f\"{metric.capitalize()} is\", len(result))\n",
      "/Users/mohammadmahdi/Documents/test/nlp/lib/python3.12/site-packages/sklearn/metrics/_classification.py:1531: UndefinedMetricWarning: Precision is ill-defined and being set to 0.0 in labels with no predicted samples. Use `zero_division` parameter to control this behavior.\n",
      "  _warn_prf(average, modifier, f\"{metric.capitalize()} is\", len(result))\n",
      "/Users/mohammadmahdi/Documents/test/nlp/lib/python3.12/site-packages/transformers/training_args.py:1494: FutureWarning: `evaluation_strategy` is deprecated and will be removed in version 4.46 of 🤗 Transformers. Use `eval_strategy` instead\n",
      "  warnings.warn(\n",
      "/Users/mohammadmahdi/Documents/test/nlp/lib/python3.12/site-packages/transformers/training_args.py:1509: FutureWarning: using `no_cuda` is deprecated and will be removed in version 5.0 of 🤗 Transformers. Use `use_cpu` instead\n",
      "  warnings.warn(\n"
     ]
    },
    {
     "name": "stdout",
     "output_type": "stream",
     "text": [
      "Fold 0 Accuracy: 0.3512\n",
      "Fold 0 F1 Score: 0.0677\n",
      "                          precision    recall  f1-score   support\n",
      "\n",
      "                  Action       0.00      0.00      0.00        15\n",
      "               Adventure       0.00      0.00      0.00        10\n",
      "       Arts & Literature       0.00      0.00      0.00         7\n",
      "                  Comedy       0.38      0.91      0.53        53\n",
      "                   Crime       0.00      0.00      0.00        14\n",
      "    Culture & Traditions       0.00      0.00      0.00         5\n",
      "                   Drama       0.28      0.28      0.28        40\n",
      "                  Family       0.00      0.00      0.00         5\n",
      "                 History       0.00      0.00      0.00         3\n",
      "Human Interest & Society       0.00      0.00      0.00         9\n",
      "                 Romance       0.00      0.00      0.00         3\n",
      "                     War       0.00      0.00      0.00         4\n",
      "\n",
      "                accuracy                           0.35       168\n",
      "               macro avg       0.06      0.10      0.07       168\n",
      "            weighted avg       0.19      0.35      0.23       168\n",
      "\n"
     ]
    },
    {
     "name": "stderr",
     "output_type": "stream",
     "text": [
      "  2%|▏         | 10/420 [00:17<12:12,  1.79s/it]"
     ]
    },
    {
     "name": "stdout",
     "output_type": "stream",
     "text": [
      "{'loss': 1.7328, 'grad_norm': 6.504175186157227, 'learning_rate': 1.0000000000000002e-06, 'epoch': 0.24}\n"
     ]
    },
    {
     "name": "stderr",
     "output_type": "stream",
     "text": [
      "  5%|▍         | 20/420 [00:35<11:54,  1.79s/it]"
     ]
    },
    {
     "name": "stdout",
     "output_type": "stream",
     "text": [
      "{'loss': 1.7529, 'grad_norm': 7.223525047302246, 'learning_rate': 2.0000000000000003e-06, 'epoch': 0.48}\n"
     ]
    },
    {
     "name": "stderr",
     "output_type": "stream",
     "text": [
      "  7%|▋         | 30/420 [00:53<11:41,  1.80s/it]"
     ]
    },
    {
     "name": "stdout",
     "output_type": "stream",
     "text": [
      "{'loss': 1.6876, 'grad_norm': 8.411275863647461, 'learning_rate': 3e-06, 'epoch': 0.71}\n"
     ]
    },
    {
     "name": "stderr",
     "output_type": "stream",
     "text": [
      " 10%|▉         | 40/420 [01:12<11:52,  1.88s/it]"
     ]
    },
    {
     "name": "stdout",
     "output_type": "stream",
     "text": [
      "{'loss': 1.5392, 'grad_norm': 6.6965227127075195, 'learning_rate': 4.000000000000001e-06, 'epoch': 0.95}\n"
     ]
    },
    {
     "name": "stderr",
     "output_type": "stream",
     "text": [
      " 10%|█         | 42/420 [01:15<11:23,  1.81s/it]\n",
      " 10%|█         | 42/420 [01:20<11:23,  1.81s/it]"
     ]
    },
    {
     "name": "stdout",
     "output_type": "stream",
     "text": [
      "{'eval_loss': 1.6503522396087646, 'eval_runtime': 4.4152, 'eval_samples_per_second': 38.051, 'eval_steps_per_second': 2.491, 'epoch': 1.0}\n"
     ]
    },
    {
     "name": "stderr",
     "output_type": "stream",
     "text": [
      " 12%|█▏        | 50/420 [01:36<12:14,  1.98s/it]"
     ]
    },
    {
     "name": "stdout",
     "output_type": "stream",
     "text": [
      "{'loss': 1.6663, 'grad_norm': 9.182774543762207, 'learning_rate': 5e-06, 'epoch': 1.19}\n"
     ]
    },
    {
     "name": "stderr",
     "output_type": "stream",
     "text": [
      " 14%|█▍        | 60/420 [01:54<11:03,  1.84s/it]"
     ]
    },
    {
     "name": "stdout",
     "output_type": "stream",
     "text": [
      "{'loss': 1.6341, 'grad_norm': 7.076425075531006, 'learning_rate': 6e-06, 'epoch': 1.43}\n"
     ]
    },
    {
     "name": "stderr",
     "output_type": "stream",
     "text": [
      " 17%|█▋        | 70/420 [02:12<10:43,  1.84s/it]"
     ]
    },
    {
     "name": "stdout",
     "output_type": "stream",
     "text": [
      "{'loss': 1.5741, 'grad_norm': 6.26603364944458, 'learning_rate': 7.000000000000001e-06, 'epoch': 1.67}\n"
     ]
    },
    {
     "name": "stderr",
     "output_type": "stream",
     "text": [
      " 19%|█▉        | 80/420 [02:31<10:27,  1.85s/it]"
     ]
    },
    {
     "name": "stdout",
     "output_type": "stream",
     "text": [
      "{'loss': 1.6368, 'grad_norm': 6.874195575714111, 'learning_rate': 8.000000000000001e-06, 'epoch': 1.9}\n"
     ]
    },
    {
     "name": "stderr",
     "output_type": "stream",
     "text": [
      " 20%|██        | 84/420 [02:38<10:11,  1.82s/it]\n",
      " 20%|██        | 84/420 [02:43<10:11,  1.82s/it]"
     ]
    },
    {
     "name": "stdout",
     "output_type": "stream",
     "text": [
      "{'eval_loss': 1.6440038681030273, 'eval_runtime': 4.7322, 'eval_samples_per_second': 35.501, 'eval_steps_per_second': 2.324, 'epoch': 2.0}\n"
     ]
    },
    {
     "name": "stderr",
     "output_type": "stream",
     "text": [
      " 21%|██▏       | 90/420 [02:55<11:40,  2.12s/it]"
     ]
    },
    {
     "name": "stdout",
     "output_type": "stream",
     "text": [
      "{'loss': 1.545, 'grad_norm': 6.44730806350708, 'learning_rate': 9e-06, 'epoch': 2.14}\n"
     ]
    },
    {
     "name": "stderr",
     "output_type": "stream",
     "text": [
      " 24%|██▍       | 100/420 [03:13<09:52,  1.85s/it]"
     ]
    },
    {
     "name": "stdout",
     "output_type": "stream",
     "text": [
      "{'loss': 1.5153, 'grad_norm': 6.326126575469971, 'learning_rate': 1e-05, 'epoch': 2.38}\n"
     ]
    },
    {
     "name": "stderr",
     "output_type": "stream",
     "text": [
      " 26%|██▌       | 110/420 [03:32<09:29,  1.84s/it]"
     ]
    },
    {
     "name": "stdout",
     "output_type": "stream",
     "text": [
      "{'loss': 1.4726, 'grad_norm': 7.79194450378418, 'learning_rate': 1.1000000000000001e-05, 'epoch': 2.62}\n"
     ]
    },
    {
     "name": "stderr",
     "output_type": "stream",
     "text": [
      " 29%|██▊       | 120/420 [03:50<09:10,  1.84s/it]"
     ]
    },
    {
     "name": "stdout",
     "output_type": "stream",
     "text": [
      "{'loss': 1.4569, 'grad_norm': 6.125738143920898, 'learning_rate': 1.2e-05, 'epoch': 2.86}\n"
     ]
    },
    {
     "name": "stderr",
     "output_type": "stream",
     "text": [
      " 30%|███       | 126/420 [04:01<08:52,  1.81s/it]\n",
      " 30%|███       | 126/420 [04:06<08:52,  1.81s/it]"
     ]
    },
    {
     "name": "stdout",
     "output_type": "stream",
     "text": [
      "{'eval_loss': 1.6038527488708496, 'eval_runtime': 4.7458, 'eval_samples_per_second': 35.4, 'eval_steps_per_second': 2.318, 'epoch': 3.0}\n"
     ]
    },
    {
     "name": "stderr",
     "output_type": "stream",
     "text": [
      " 31%|███       | 130/420 [04:15<11:52,  2.46s/it]"
     ]
    },
    {
     "name": "stdout",
     "output_type": "stream",
     "text": [
      "{'loss': 1.3102, 'grad_norm': 8.34884262084961, 'learning_rate': 1.3000000000000001e-05, 'epoch': 3.1}\n"
     ]
    },
    {
     "name": "stderr",
     "output_type": "stream",
     "text": [
      " 33%|███▎      | 140/420 [04:33<08:45,  1.88s/it]"
     ]
    },
    {
     "name": "stdout",
     "output_type": "stream",
     "text": [
      "{'loss': 1.235, 'grad_norm': 8.017032623291016, 'learning_rate': 1.4000000000000001e-05, 'epoch': 3.33}\n"
     ]
    },
    {
     "name": "stderr",
     "output_type": "stream",
     "text": [
      " 36%|███▌      | 150/420 [04:52<08:21,  1.86s/it]"
     ]
    },
    {
     "name": "stdout",
     "output_type": "stream",
     "text": [
      "{'loss': 1.4249, 'grad_norm': 6.642542362213135, 'learning_rate': 1.5e-05, 'epoch': 3.57}\n"
     ]
    },
    {
     "name": "stderr",
     "output_type": "stream",
     "text": [
      " 38%|███▊      | 160/420 [05:10<08:00,  1.85s/it]"
     ]
    },
    {
     "name": "stdout",
     "output_type": "stream",
     "text": [
      "{'loss': 1.2439, 'grad_norm': 8.155868530273438, 'learning_rate': 1.6000000000000003e-05, 'epoch': 3.81}\n"
     ]
    },
    {
     "name": "stderr",
     "output_type": "stream",
     "text": [
      " 40%|████      | 168/420 [05:25<07:38,  1.82s/it]\n",
      " 40%|████      | 168/420 [05:29<07:38,  1.82s/it]"
     ]
    },
    {
     "name": "stdout",
     "output_type": "stream",
     "text": [
      "{'eval_loss': 1.5664305686950684, 'eval_runtime': 4.7258, 'eval_samples_per_second': 35.549, 'eval_steps_per_second': 2.328, 'epoch': 4.0}\n"
     ]
    },
    {
     "name": "stderr",
     "output_type": "stream",
     "text": [
      " 40%|████      | 170/420 [05:34<12:47,  3.07s/it]"
     ]
    },
    {
     "name": "stdout",
     "output_type": "stream",
     "text": [
      "{'loss': 1.4769, 'grad_norm': 10.680486679077148, 'learning_rate': 1.7000000000000003e-05, 'epoch': 4.05}\n"
     ]
    },
    {
     "name": "stderr",
     "output_type": "stream",
     "text": [
      " 43%|████▎     | 180/420 [05:53<07:32,  1.89s/it]"
     ]
    },
    {
     "name": "stdout",
     "output_type": "stream",
     "text": [
      "{'loss': 1.1781, 'grad_norm': 8.925761222839355, 'learning_rate': 1.8e-05, 'epoch': 4.29}\n"
     ]
    },
    {
     "name": "stderr",
     "output_type": "stream",
     "text": [
      " 45%|████▌     | 190/420 [06:11<07:04,  1.84s/it]"
     ]
    },
    {
     "name": "stdout",
     "output_type": "stream",
     "text": [
      "{'loss': 1.0795, 'grad_norm': 7.337277889251709, 'learning_rate': 1.9e-05, 'epoch': 4.52}\n"
     ]
    },
    {
     "name": "stderr",
     "output_type": "stream",
     "text": [
      " 48%|████▊     | 200/420 [06:30<06:45,  1.84s/it]"
     ]
    },
    {
     "name": "stdout",
     "output_type": "stream",
     "text": [
      "{'loss': 1.1386, 'grad_norm': 13.931605339050293, 'learning_rate': 2e-05, 'epoch': 4.76}\n"
     ]
    },
    {
     "name": "stderr",
     "output_type": "stream",
     "text": [
      " 50%|█████     | 210/420 [06:48<06:25,  1.83s/it]"
     ]
    },
    {
     "name": "stdout",
     "output_type": "stream",
     "text": [
      "{'loss': 1.1632, 'grad_norm': 8.120596885681152, 'learning_rate': 2.1e-05, 'epoch': 5.0}\n"
     ]
    },
    {
     "name": "stderr",
     "output_type": "stream",
     "text": [
      "\n",
      " 50%|█████     | 210/420 [06:53<06:25,  1.83s/it]"
     ]
    },
    {
     "name": "stdout",
     "output_type": "stream",
     "text": [
      "{'eval_loss': 1.5452929735183716, 'eval_runtime': 4.7022, 'eval_samples_per_second': 35.728, 'eval_steps_per_second': 2.339, 'epoch': 5.0}\n"
     ]
    },
    {
     "name": "stderr",
     "output_type": "stream",
     "text": [
      " 52%|█████▏    | 220/420 [07:12<06:24,  1.92s/it]"
     ]
    },
    {
     "name": "stdout",
     "output_type": "stream",
     "text": [
      "{'loss': 1.0093, 'grad_norm': 6.056740760803223, 'learning_rate': 2.2000000000000003e-05, 'epoch': 5.24}\n"
     ]
    },
    {
     "name": "stderr",
     "output_type": "stream",
     "text": [
      " 55%|█████▍    | 230/420 [07:31<05:52,  1.85s/it]"
     ]
    },
    {
     "name": "stdout",
     "output_type": "stream",
     "text": [
      "{'loss': 0.9922, 'grad_norm': 7.189308166503906, 'learning_rate': 2.3000000000000003e-05, 'epoch': 5.48}\n"
     ]
    },
    {
     "name": "stderr",
     "output_type": "stream",
     "text": [
      " 57%|█████▋    | 240/420 [07:49<05:33,  1.85s/it]"
     ]
    },
    {
     "name": "stdout",
     "output_type": "stream",
     "text": [
      "{'loss': 0.964, 'grad_norm': 6.460126876831055, 'learning_rate': 2.4e-05, 'epoch': 5.71}\n"
     ]
    },
    {
     "name": "stderr",
     "output_type": "stream",
     "text": [
      " 60%|█████▉    | 250/420 [08:08<05:14,  1.85s/it]"
     ]
    },
    {
     "name": "stdout",
     "output_type": "stream",
     "text": [
      "{'loss': 0.849, 'grad_norm': 16.911874771118164, 'learning_rate': 2.5e-05, 'epoch': 5.95}\n"
     ]
    },
    {
     "name": "stderr",
     "output_type": "stream",
     "text": [
      " 60%|██████    | 252/420 [08:11<05:07,  1.83s/it]\n",
      " 60%|██████    | 252/420 [08:16<05:07,  1.83s/it]"
     ]
    },
    {
     "name": "stdout",
     "output_type": "stream",
     "text": [
      "{'eval_loss': 1.6612448692321777, 'eval_runtime': 4.6681, 'eval_samples_per_second': 35.989, 'eval_steps_per_second': 2.356, 'epoch': 6.0}\n"
     ]
    },
    {
     "name": "stderr",
     "output_type": "stream",
     "text": [
      " 62%|██████▏   | 260/420 [08:32<05:20,  2.00s/it]"
     ]
    },
    {
     "name": "stdout",
     "output_type": "stream",
     "text": [
      "{'loss': 0.9143, 'grad_norm': 9.816947937011719, 'learning_rate': 2.6000000000000002e-05, 'epoch': 6.19}\n"
     ]
    },
    {
     "name": "stderr",
     "output_type": "stream",
     "text": [
      " 64%|██████▍   | 270/420 [08:51<04:39,  1.87s/it]"
     ]
    },
    {
     "name": "stdout",
     "output_type": "stream",
     "text": [
      "{'loss': 0.9012, 'grad_norm': 6.449217796325684, 'learning_rate': 2.7000000000000002e-05, 'epoch': 6.43}\n"
     ]
    },
    {
     "name": "stderr",
     "output_type": "stream",
     "text": [
      " 67%|██████▋   | 280/420 [09:09<04:19,  1.85s/it]"
     ]
    },
    {
     "name": "stdout",
     "output_type": "stream",
     "text": [
      "{'loss': 0.8247, 'grad_norm': 8.56834602355957, 'learning_rate': 2.8000000000000003e-05, 'epoch': 6.67}\n"
     ]
    },
    {
     "name": "stderr",
     "output_type": "stream",
     "text": [
      " 69%|██████▉   | 290/420 [09:28<04:00,  1.85s/it]"
     ]
    },
    {
     "name": "stdout",
     "output_type": "stream",
     "text": [
      "{'loss': 0.8055, 'grad_norm': 6.552677631378174, 'learning_rate': 2.9e-05, 'epoch': 6.9}\n"
     ]
    },
    {
     "name": "stderr",
     "output_type": "stream",
     "text": [
      " 70%|███████   | 294/420 [09:35<03:51,  1.84s/it]\n",
      " 70%|███████   | 294/420 [09:40<03:51,  1.84s/it]"
     ]
    },
    {
     "name": "stdout",
     "output_type": "stream",
     "text": [
      "{'eval_loss': 1.8146791458129883, 'eval_runtime': 4.7466, 'eval_samples_per_second': 35.394, 'eval_steps_per_second': 2.317, 'epoch': 7.0}\n"
     ]
    },
    {
     "name": "stderr",
     "output_type": "stream",
     "text": [
      " 71%|███████▏  | 300/420 [09:52<04:17,  2.15s/it]"
     ]
    },
    {
     "name": "stdout",
     "output_type": "stream",
     "text": [
      "{'loss': 0.844, 'grad_norm': 6.374269008636475, 'learning_rate': 3e-05, 'epoch': 7.14}\n"
     ]
    },
    {
     "name": "stderr",
     "output_type": "stream",
     "text": [
      " 74%|███████▍  | 310/420 [10:11<03:23,  1.85s/it]"
     ]
    },
    {
     "name": "stdout",
     "output_type": "stream",
     "text": [
      "{'loss': 0.7055, 'grad_norm': 4.218990325927734, 'learning_rate': 3.1e-05, 'epoch': 7.38}\n"
     ]
    },
    {
     "name": "stderr",
     "output_type": "stream",
     "text": [
      " 76%|███████▌  | 320/420 [10:29<03:03,  1.84s/it]"
     ]
    },
    {
     "name": "stdout",
     "output_type": "stream",
     "text": [
      "{'loss': 0.8441, 'grad_norm': 11.234764099121094, 'learning_rate': 3.2000000000000005e-05, 'epoch': 7.62}\n"
     ]
    },
    {
     "name": "stderr",
     "output_type": "stream",
     "text": [
      " 79%|███████▊  | 330/420 [10:47<02:46,  1.85s/it]"
     ]
    },
    {
     "name": "stdout",
     "output_type": "stream",
     "text": [
      "{'loss': 0.7025, 'grad_norm': 5.620327949523926, 'learning_rate': 3.3e-05, 'epoch': 7.86}\n"
     ]
    },
    {
     "name": "stderr",
     "output_type": "stream",
     "text": [
      " 80%|████████  | 336/420 [10:59<02:33,  1.83s/it]\n",
      " 80%|████████  | 336/420 [11:03<02:33,  1.83s/it]"
     ]
    },
    {
     "name": "stdout",
     "output_type": "stream",
     "text": [
      "{'eval_loss': 1.6662927865982056, 'eval_runtime': 4.7349, 'eval_samples_per_second': 35.481, 'eval_steps_per_second': 2.323, 'epoch': 8.0}\n",
      "Stopping early\n"
     ]
    },
    {
     "name": "stderr",
     "output_type": "stream",
     "text": [
      " 80%|████████  | 336/420 [11:05<02:46,  1.98s/it]\n"
     ]
    },
    {
     "name": "stdout",
     "output_type": "stream",
     "text": [
      "{'train_runtime': 665.7419, 'train_samples_per_second': 10.079, 'train_steps_per_second': 0.631, 'train_loss': 1.2269158576216017, 'epoch': 8.0}\n"
     ]
    },
    {
     "name": "stderr",
     "output_type": "stream",
     "text": [
      "100%|██████████| 11/11 [00:04<00:00,  2.58it/s]\n"
     ]
    },
    {
     "name": "stdout",
     "output_type": "stream",
     "text": [
      "Stopping early\n"
     ]
    },
    {
     "name": "stderr",
     "output_type": "stream",
     "text": [
      "100%|██████████| 11/11 [00:04<00:00,  2.54it/s]\n",
      "/Users/mohammadmahdi/Documents/test/nlp/lib/python3.12/site-packages/sklearn/metrics/_classification.py:1531: UndefinedMetricWarning: Precision is ill-defined and being set to 0.0 in labels with no predicted samples. Use `zero_division` parameter to control this behavior.\n",
      "  _warn_prf(average, modifier, f\"{metric.capitalize()} is\", len(result))\n",
      "/Users/mohammadmahdi/Documents/test/nlp/lib/python3.12/site-packages/sklearn/metrics/_classification.py:1531: UndefinedMetricWarning: Precision is ill-defined and being set to 0.0 in labels with no predicted samples. Use `zero_division` parameter to control this behavior.\n",
      "  _warn_prf(average, modifier, f\"{metric.capitalize()} is\", len(result))\n",
      "/Users/mohammadmahdi/Documents/test/nlp/lib/python3.12/site-packages/sklearn/metrics/_classification.py:1531: UndefinedMetricWarning: Precision is ill-defined and being set to 0.0 in labels with no predicted samples. Use `zero_division` parameter to control this behavior.\n",
      "  _warn_prf(average, modifier, f\"{metric.capitalize()} is\", len(result))\n",
      "/Users/mohammadmahdi/Documents/test/nlp/lib/python3.12/site-packages/transformers/training_args.py:1494: FutureWarning: `evaluation_strategy` is deprecated and will be removed in version 4.46 of 🤗 Transformers. Use `eval_strategy` instead\n",
      "  warnings.warn(\n",
      "/Users/mohammadmahdi/Documents/test/nlp/lib/python3.12/site-packages/transformers/training_args.py:1509: FutureWarning: using `no_cuda` is deprecated and will be removed in version 5.0 of 🤗 Transformers. Use `use_cpu` instead\n",
      "  warnings.warn(\n"
     ]
    },
    {
     "name": "stdout",
     "output_type": "stream",
     "text": [
      "Fold 1 Accuracy: 0.4583\n",
      "Fold 1 F1 Score: 0.2039\n",
      "                          precision    recall  f1-score   support\n",
      "\n",
      "                  Action       0.64      0.47      0.54        15\n",
      "               Adventure       0.00      0.00      0.00        10\n",
      "       Arts & Literature       0.00      0.00      0.00         7\n",
      "                  Comedy       0.63      0.72      0.67        53\n",
      "                   Crime       0.50      0.36      0.42        14\n",
      "    Culture & Traditions       0.00      0.00      0.00         5\n",
      "                   Drama       0.75      0.45      0.56        40\n",
      "                  Family       0.00      0.00      0.00         5\n",
      "                 History       0.00      0.00      0.00         3\n",
      "Human Interest & Society       0.15      1.00      0.26         9\n",
      "                 Romance       0.00      0.00      0.00         3\n",
      "                     War       0.00      0.00      0.00         4\n",
      "\n",
      "                accuracy                           0.46       168\n",
      "               macro avg       0.22      0.25      0.20       168\n",
      "            weighted avg       0.48      0.46      0.44       168\n",
      "\n"
     ]
    },
    {
     "name": "stderr",
     "output_type": "stream",
     "text": [
      "  2%|▏         | 10/420 [00:18<12:36,  1.85s/it]"
     ]
    },
    {
     "name": "stdout",
     "output_type": "stream",
     "text": [
      "{'loss': 1.1976, 'grad_norm': 5.596986770629883, 'learning_rate': 1.0000000000000002e-06, 'epoch': 0.24}\n"
     ]
    },
    {
     "name": "stderr",
     "output_type": "stream",
     "text": [
      "  5%|▍         | 20/420 [00:36<12:15,  1.84s/it]"
     ]
    },
    {
     "name": "stdout",
     "output_type": "stream",
     "text": [
      "{'loss': 1.0674, 'grad_norm': 8.037359237670898, 'learning_rate': 2.0000000000000003e-06, 'epoch': 0.48}\n"
     ]
    },
    {
     "name": "stderr",
     "output_type": "stream",
     "text": [
      "  7%|▋         | 30/420 [00:55<11:55,  1.83s/it]"
     ]
    },
    {
     "name": "stdout",
     "output_type": "stream",
     "text": [
      "{'loss': 0.955, 'grad_norm': 11.504555702209473, 'learning_rate': 3e-06, 'epoch': 0.71}\n"
     ]
    },
    {
     "name": "stderr",
     "output_type": "stream",
     "text": [
      " 10%|▉         | 40/420 [01:13<11:35,  1.83s/it]"
     ]
    },
    {
     "name": "stdout",
     "output_type": "stream",
     "text": [
      "{'loss': 1.1326, 'grad_norm': 7.122539520263672, 'learning_rate': 4.000000000000001e-06, 'epoch': 0.95}\n"
     ]
    },
    {
     "name": "stderr",
     "output_type": "stream",
     "text": [
      " 10%|█         | 42/420 [01:17<11:22,  1.81s/it]\n",
      " 10%|█         | 42/420 [01:21<11:22,  1.81s/it]"
     ]
    },
    {
     "name": "stdout",
     "output_type": "stream",
     "text": [
      "{'eval_loss': 1.0727286338806152, 'eval_runtime': 4.6869, 'eval_samples_per_second': 35.845, 'eval_steps_per_second': 2.347, 'epoch': 1.0}\n"
     ]
    },
    {
     "name": "stderr",
     "output_type": "stream",
     "text": [
      " 12%|█▏        | 50/420 [01:37<12:18,  2.00s/it]"
     ]
    },
    {
     "name": "stdout",
     "output_type": "stream",
     "text": [
      "{'loss': 1.0988, 'grad_norm': 9.800680160522461, 'learning_rate': 5e-06, 'epoch': 1.19}\n"
     ]
    },
    {
     "name": "stderr",
     "output_type": "stream",
     "text": [
      " 14%|█▍        | 60/420 [01:56<11:05,  1.85s/it]"
     ]
    },
    {
     "name": "stdout",
     "output_type": "stream",
     "text": [
      "{'loss': 1.0404, 'grad_norm': 9.502842903137207, 'learning_rate': 6e-06, 'epoch': 1.43}\n"
     ]
    },
    {
     "name": "stderr",
     "output_type": "stream",
     "text": [
      " 17%|█▋        | 70/420 [02:14<10:49,  1.85s/it]"
     ]
    },
    {
     "name": "stdout",
     "output_type": "stream",
     "text": [
      "{'loss': 0.8504, 'grad_norm': 6.831904888153076, 'learning_rate': 7.000000000000001e-06, 'epoch': 1.67}\n"
     ]
    },
    {
     "name": "stderr",
     "output_type": "stream",
     "text": [
      " 19%|█▉        | 80/420 [02:33<10:32,  1.86s/it]"
     ]
    },
    {
     "name": "stdout",
     "output_type": "stream",
     "text": [
      "{'loss': 1.1199, 'grad_norm': 5.5928778648376465, 'learning_rate': 8.000000000000001e-06, 'epoch': 1.9}\n"
     ]
    },
    {
     "name": "stderr",
     "output_type": "stream",
     "text": [
      " 20%|██        | 84/420 [02:40<10:13,  1.82s/it]\n",
      " 20%|██        | 84/420 [02:45<10:13,  1.82s/it]"
     ]
    },
    {
     "name": "stdout",
     "output_type": "stream",
     "text": [
      "{'eval_loss': 1.0574764013290405, 'eval_runtime': 4.6816, 'eval_samples_per_second': 35.885, 'eval_steps_per_second': 2.35, 'epoch': 2.0}\n"
     ]
    },
    {
     "name": "stderr",
     "output_type": "stream",
     "text": [
      " 21%|██▏       | 90/420 [02:57<11:45,  2.14s/it]"
     ]
    },
    {
     "name": "stdout",
     "output_type": "stream",
     "text": [
      "{'loss': 0.9818, 'grad_norm': 8.596301078796387, 'learning_rate': 9e-06, 'epoch': 2.14}\n"
     ]
    },
    {
     "name": "stderr",
     "output_type": "stream",
     "text": [
      " 24%|██▍       | 100/420 [03:15<09:53,  1.86s/it]"
     ]
    },
    {
     "name": "stdout",
     "output_type": "stream",
     "text": [
      "{'loss': 0.9046, 'grad_norm': 8.017802238464355, 'learning_rate': 1e-05, 'epoch': 2.38}\n"
     ]
    },
    {
     "name": "stderr",
     "output_type": "stream",
     "text": [
      " 26%|██▌       | 110/420 [03:34<09:32,  1.85s/it]"
     ]
    },
    {
     "name": "stdout",
     "output_type": "stream",
     "text": [
      "{'loss': 0.9858, 'grad_norm': 7.113959789276123, 'learning_rate': 1.1000000000000001e-05, 'epoch': 2.62}\n"
     ]
    },
    {
     "name": "stderr",
     "output_type": "stream",
     "text": [
      " 29%|██▊       | 120/420 [03:52<09:14,  1.85s/it]"
     ]
    },
    {
     "name": "stdout",
     "output_type": "stream",
     "text": [
      "{'loss': 0.8976, 'grad_norm': 7.037806034088135, 'learning_rate': 1.2e-05, 'epoch': 2.86}\n"
     ]
    },
    {
     "name": "stderr",
     "output_type": "stream",
     "text": [
      " 30%|███       | 126/420 [04:03<08:54,  1.82s/it]\n",
      " 30%|███       | 126/420 [04:08<08:54,  1.82s/it]"
     ]
    },
    {
     "name": "stdout",
     "output_type": "stream",
     "text": [
      "{'eval_loss': 0.9953364133834839, 'eval_runtime': 4.6672, 'eval_samples_per_second': 35.996, 'eval_steps_per_second': 2.357, 'epoch': 3.0}\n"
     ]
    },
    {
     "name": "stderr",
     "output_type": "stream",
     "text": [
      " 31%|███       | 130/420 [04:17<11:53,  2.46s/it]"
     ]
    },
    {
     "name": "stdout",
     "output_type": "stream",
     "text": [
      "{'loss': 0.8023, 'grad_norm': 3.2308483123779297, 'learning_rate': 1.3000000000000001e-05, 'epoch': 3.1}\n"
     ]
    },
    {
     "name": "stderr",
     "output_type": "stream",
     "text": [
      " 33%|███▎      | 140/420 [04:35<08:43,  1.87s/it]"
     ]
    },
    {
     "name": "stdout",
     "output_type": "stream",
     "text": [
      "{'loss': 0.8302, 'grad_norm': 8.113643646240234, 'learning_rate': 1.4000000000000001e-05, 'epoch': 3.33}\n"
     ]
    },
    {
     "name": "stderr",
     "output_type": "stream",
     "text": [
      " 36%|███▌      | 150/420 [04:54<08:17,  1.84s/it]"
     ]
    },
    {
     "name": "stdout",
     "output_type": "stream",
     "text": [
      "{'loss': 0.8952, 'grad_norm': 8.28604507446289, 'learning_rate': 1.5e-05, 'epoch': 3.57}\n"
     ]
    },
    {
     "name": "stderr",
     "output_type": "stream",
     "text": [
      " 38%|███▊      | 160/420 [05:12<08:02,  1.86s/it]"
     ]
    },
    {
     "name": "stdout",
     "output_type": "stream",
     "text": [
      "{'loss': 0.7496, 'grad_norm': 8.259178161621094, 'learning_rate': 1.6000000000000003e-05, 'epoch': 3.81}\n"
     ]
    },
    {
     "name": "stderr",
     "output_type": "stream",
     "text": [
      " 40%|████      | 168/420 [05:27<07:38,  1.82s/it]\n",
      " 40%|████      | 168/420 [05:32<07:38,  1.82s/it]"
     ]
    },
    {
     "name": "stdout",
     "output_type": "stream",
     "text": [
      "{'eval_loss': 0.9977231621742249, 'eval_runtime': 4.663, 'eval_samples_per_second': 36.029, 'eval_steps_per_second': 2.359, 'epoch': 4.0}\n"
     ]
    },
    {
     "name": "stderr",
     "output_type": "stream",
     "text": [
      " 40%|████      | 170/420 [05:36<12:43,  3.06s/it]"
     ]
    },
    {
     "name": "stdout",
     "output_type": "stream",
     "text": [
      "{'loss': 0.891, 'grad_norm': 6.991774559020996, 'learning_rate': 1.7000000000000003e-05, 'epoch': 4.05}\n"
     ]
    },
    {
     "name": "stderr",
     "output_type": "stream",
     "text": [
      " 43%|████▎     | 180/420 [05:55<07:31,  1.88s/it]"
     ]
    },
    {
     "name": "stdout",
     "output_type": "stream",
     "text": [
      "{'loss': 0.7165, 'grad_norm': 6.362575531005859, 'learning_rate': 1.8e-05, 'epoch': 4.29}\n"
     ]
    },
    {
     "name": "stderr",
     "output_type": "stream",
     "text": [
      " 45%|████▌     | 190/420 [06:13<07:04,  1.85s/it]"
     ]
    },
    {
     "name": "stdout",
     "output_type": "stream",
     "text": [
      "{'loss': 0.7775, 'grad_norm': 5.305840492248535, 'learning_rate': 1.9e-05, 'epoch': 4.52}\n"
     ]
    },
    {
     "name": "stderr",
     "output_type": "stream",
     "text": [
      " 48%|████▊     | 200/420 [06:34<07:52,  2.15s/it]"
     ]
    },
    {
     "name": "stdout",
     "output_type": "stream",
     "text": [
      "{'loss': 0.6939, 'grad_norm': 6.503593921661377, 'learning_rate': 2e-05, 'epoch': 4.76}\n"
     ]
    },
    {
     "name": "stderr",
     "output_type": "stream",
     "text": [
      " 50%|█████     | 210/420 [06:56<07:42,  2.20s/it]"
     ]
    },
    {
     "name": "stdout",
     "output_type": "stream",
     "text": [
      "{'loss': 0.8502, 'grad_norm': 9.445626258850098, 'learning_rate': 2.1e-05, 'epoch': 5.0}\n"
     ]
    },
    {
     "name": "stderr",
     "output_type": "stream",
     "text": [
      "\n",
      " 50%|█████     | 210/420 [07:01<07:42,  2.20s/it]"
     ]
    },
    {
     "name": "stdout",
     "output_type": "stream",
     "text": [
      "{'eval_loss': 1.0592536926269531, 'eval_runtime': 5.2932, 'eval_samples_per_second': 31.739, 'eval_steps_per_second': 2.078, 'epoch': 5.0}\n"
     ]
    },
    {
     "name": "stderr",
     "output_type": "stream",
     "text": [
      " 52%|█████▏    | 220/420 [07:25<07:44,  2.32s/it]"
     ]
    },
    {
     "name": "stdout",
     "output_type": "stream",
     "text": [
      "{'loss': 0.5662, 'grad_norm': 3.62245774269104, 'learning_rate': 2.2000000000000003e-05, 'epoch': 5.24}\n"
     ]
    },
    {
     "name": "stderr",
     "output_type": "stream",
     "text": [
      " 55%|█████▍    | 230/420 [07:48<07:04,  2.23s/it]"
     ]
    },
    {
     "name": "stdout",
     "output_type": "stream",
     "text": [
      "{'loss': 0.781, 'grad_norm': 6.686427593231201, 'learning_rate': 2.3000000000000003e-05, 'epoch': 5.48}\n"
     ]
    },
    {
     "name": "stderr",
     "output_type": "stream",
     "text": [
      " 57%|█████▋    | 240/420 [08:10<06:42,  2.24s/it]"
     ]
    },
    {
     "name": "stdout",
     "output_type": "stream",
     "text": [
      "{'loss': 0.7527, 'grad_norm': 4.466129779815674, 'learning_rate': 2.4e-05, 'epoch': 5.71}\n"
     ]
    },
    {
     "name": "stderr",
     "output_type": "stream",
     "text": [
      " 60%|█████▉    | 250/420 [08:33<06:21,  2.25s/it]"
     ]
    },
    {
     "name": "stdout",
     "output_type": "stream",
     "text": [
      "{'loss': 0.7206, 'grad_norm': 5.8240203857421875, 'learning_rate': 2.5e-05, 'epoch': 5.95}\n"
     ]
    },
    {
     "name": "stderr",
     "output_type": "stream",
     "text": [
      " 60%|██████    | 252/420 [08:37<06:11,  2.21s/it]\n",
      " 60%|██████    | 252/420 [08:42<06:11,  2.21s/it]"
     ]
    },
    {
     "name": "stdout",
     "output_type": "stream",
     "text": [
      "{'eval_loss': 0.9644047021865845, 'eval_runtime': 5.326, 'eval_samples_per_second': 31.543, 'eval_steps_per_second': 2.065, 'epoch': 6.0}\n"
     ]
    },
    {
     "name": "stderr",
     "output_type": "stream",
     "text": [
      " 62%|██████▏   | 260/420 [09:02<06:27,  2.42s/it]"
     ]
    },
    {
     "name": "stdout",
     "output_type": "stream",
     "text": [
      "{'loss': 0.7162, 'grad_norm': 4.9986724853515625, 'learning_rate': 2.6000000000000002e-05, 'epoch': 6.19}\n"
     ]
    },
    {
     "name": "stderr",
     "output_type": "stream",
     "text": [
      " 64%|██████▍   | 270/420 [09:24<05:38,  2.25s/it]"
     ]
    },
    {
     "name": "stdout",
     "output_type": "stream",
     "text": [
      "{'loss': 0.5835, 'grad_norm': 3.9984805583953857, 'learning_rate': 2.7000000000000002e-05, 'epoch': 6.43}\n"
     ]
    },
    {
     "name": "stderr",
     "output_type": "stream",
     "text": [
      " 67%|██████▋   | 280/420 [09:47<05:13,  2.24s/it]"
     ]
    },
    {
     "name": "stdout",
     "output_type": "stream",
     "text": [
      "{'loss': 0.609, 'grad_norm': 12.335217475891113, 'learning_rate': 2.8000000000000003e-05, 'epoch': 6.67}\n"
     ]
    },
    {
     "name": "stderr",
     "output_type": "stream",
     "text": [
      " 69%|██████▉   | 290/420 [10:09<04:52,  2.25s/it]"
     ]
    },
    {
     "name": "stdout",
     "output_type": "stream",
     "text": [
      "{'loss': 0.68, 'grad_norm': 2.605898141860962, 'learning_rate': 2.9e-05, 'epoch': 6.9}\n"
     ]
    },
    {
     "name": "stderr",
     "output_type": "stream",
     "text": [
      " 70%|███████   | 294/420 [10:18<04:37,  2.20s/it]\n",
      " 70%|███████   | 294/420 [10:24<04:37,  2.20s/it]"
     ]
    },
    {
     "name": "stdout",
     "output_type": "stream",
     "text": [
      "{'eval_loss': 1.011953592300415, 'eval_runtime': 5.3242, 'eval_samples_per_second': 31.554, 'eval_steps_per_second': 2.066, 'epoch': 7.0}\n"
     ]
    },
    {
     "name": "stderr",
     "output_type": "stream",
     "text": [
      " 71%|███████▏  | 300/420 [10:39<05:11,  2.59s/it]"
     ]
    },
    {
     "name": "stdout",
     "output_type": "stream",
     "text": [
      "{'loss': 0.7605, 'grad_norm': 4.3256096839904785, 'learning_rate': 3e-05, 'epoch': 7.14}\n"
     ]
    },
    {
     "name": "stderr",
     "output_type": "stream",
     "text": [
      " 74%|███████▍  | 310/420 [11:01<04:08,  2.26s/it]"
     ]
    },
    {
     "name": "stdout",
     "output_type": "stream",
     "text": [
      "{'loss': 0.6059, 'grad_norm': 3.5395145416259766, 'learning_rate': 3.1e-05, 'epoch': 7.38}\n"
     ]
    },
    {
     "name": "stderr",
     "output_type": "stream",
     "text": [
      " 76%|███████▌  | 320/420 [11:24<03:44,  2.24s/it]"
     ]
    },
    {
     "name": "stdout",
     "output_type": "stream",
     "text": [
      "{'loss': 0.5883, 'grad_norm': 8.380646705627441, 'learning_rate': 3.2000000000000005e-05, 'epoch': 7.62}\n"
     ]
    },
    {
     "name": "stderr",
     "output_type": "stream",
     "text": [
      " 79%|███████▊  | 330/420 [11:46<03:21,  2.24s/it]"
     ]
    },
    {
     "name": "stdout",
     "output_type": "stream",
     "text": [
      "{'loss': 0.5824, 'grad_norm': 3.6188344955444336, 'learning_rate': 3.3e-05, 'epoch': 7.86}\n"
     ]
    },
    {
     "name": "stderr",
     "output_type": "stream",
     "text": [
      " 80%|████████  | 336/420 [11:59<03:05,  2.21s/it]\n",
      " 80%|████████  | 336/420 [12:05<03:05,  2.21s/it]"
     ]
    },
    {
     "name": "stdout",
     "output_type": "stream",
     "text": [
      "{'eval_loss': 1.0199178457260132, 'eval_runtime': 5.3534, 'eval_samples_per_second': 31.382, 'eval_steps_per_second': 2.055, 'epoch': 8.0}\n"
     ]
    },
    {
     "name": "stderr",
     "output_type": "stream",
     "text": [
      " 81%|████████  | 340/420 [12:16<03:57,  2.97s/it]"
     ]
    },
    {
     "name": "stdout",
     "output_type": "stream",
     "text": [
      "{'loss': 0.7583, 'grad_norm': 3.5420589447021484, 'learning_rate': 3.4000000000000007e-05, 'epoch': 8.1}\n"
     ]
    },
    {
     "name": "stderr",
     "output_type": "stream",
     "text": [
      " 83%|████████▎ | 350/420 [12:38<02:37,  2.25s/it]"
     ]
    },
    {
     "name": "stdout",
     "output_type": "stream",
     "text": [
      "{'loss': 0.5398, 'grad_norm': 6.1732072830200195, 'learning_rate': 3.5e-05, 'epoch': 8.33}\n"
     ]
    },
    {
     "name": "stderr",
     "output_type": "stream",
     "text": [
      " 86%|████████▌ | 360/420 [13:00<02:14,  2.24s/it]"
     ]
    },
    {
     "name": "stdout",
     "output_type": "stream",
     "text": [
      "{'loss': 0.7444, 'grad_norm': 4.453066825866699, 'learning_rate': 3.6e-05, 'epoch': 8.57}\n"
     ]
    },
    {
     "name": "stderr",
     "output_type": "stream",
     "text": [
      " 88%|████████▊ | 370/420 [13:23<01:52,  2.25s/it]"
     ]
    },
    {
     "name": "stdout",
     "output_type": "stream",
     "text": [
      "{'loss': 0.4783, 'grad_norm': 2.2480573654174805, 'learning_rate': 3.7e-05, 'epoch': 8.81}\n"
     ]
    },
    {
     "name": "stderr",
     "output_type": "stream",
     "text": [
      " 90%|█████████ | 378/420 [13:41<01:32,  2.21s/it]\n",
      " 90%|█████████ | 378/420 [13:46<01:32,  2.21s/it]"
     ]
    },
    {
     "name": "stdout",
     "output_type": "stream",
     "text": [
      "{'eval_loss': 0.9505270719528198, 'eval_runtime': 5.353, 'eval_samples_per_second': 31.384, 'eval_steps_per_second': 2.055, 'epoch': 9.0}\n"
     ]
    },
    {
     "name": "stderr",
     "output_type": "stream",
     "text": [
      " 90%|█████████ | 380/420 [13:52<02:28,  3.72s/it]"
     ]
    },
    {
     "name": "stdout",
     "output_type": "stream",
     "text": [
      "{'loss': 0.5349, 'grad_norm': 2.4057304859161377, 'learning_rate': 3.8e-05, 'epoch': 9.05}\n"
     ]
    },
    {
     "name": "stderr",
     "output_type": "stream",
     "text": [
      " 93%|█████████▎| 390/420 [14:15<01:08,  2.29s/it]"
     ]
    },
    {
     "name": "stdout",
     "output_type": "stream",
     "text": [
      "{'loss': 0.6523, 'grad_norm': 2.7398874759674072, 'learning_rate': 3.9000000000000006e-05, 'epoch': 9.29}\n"
     ]
    },
    {
     "name": "stderr",
     "output_type": "stream",
     "text": [
      " 95%|█████████▌| 400/420 [14:37<00:45,  2.26s/it]"
     ]
    },
    {
     "name": "stdout",
     "output_type": "stream",
     "text": [
      "{'loss': 0.5966, 'grad_norm': 4.099208354949951, 'learning_rate': 4e-05, 'epoch': 9.52}\n"
     ]
    },
    {
     "name": "stderr",
     "output_type": "stream",
     "text": [
      " 98%|█████████▊| 410/420 [15:00<00:22,  2.24s/it]"
     ]
    },
    {
     "name": "stdout",
     "output_type": "stream",
     "text": [
      "{'loss': 0.6125, 'grad_norm': 4.047619819641113, 'learning_rate': 4.1e-05, 'epoch': 9.76}\n"
     ]
    },
    {
     "name": "stderr",
     "output_type": "stream",
     "text": [
      "100%|██████████| 420/420 [15:22<00:00,  2.22s/it]"
     ]
    },
    {
     "name": "stdout",
     "output_type": "stream",
     "text": [
      "{'loss': 0.5798, 'grad_norm': 24.350055694580078, 'learning_rate': 4.2e-05, 'epoch': 10.0}\n"
     ]
    },
    {
     "name": "stderr",
     "output_type": "stream",
     "text": [
      "\n",
      "100%|██████████| 420/420 [15:29<00:00,  2.22s/it]"
     ]
    },
    {
     "name": "stdout",
     "output_type": "stream",
     "text": [
      "{'eval_loss': 1.0112890005111694, 'eval_runtime': 5.4154, 'eval_samples_per_second': 31.023, 'eval_steps_per_second': 2.031, 'epoch': 10.0}\n"
     ]
    },
    {
     "name": "stderr",
     "output_type": "stream",
     "text": [
      "100%|██████████| 420/420 [15:31<00:00,  2.22s/it]\n"
     ]
    },
    {
     "name": "stdout",
     "output_type": "stream",
     "text": [
      "{'train_runtime': 931.6418, 'train_samples_per_second': 7.202, 'train_steps_per_second': 0.451, 'train_loss': 0.782891895657494, 'epoch': 10.0}\n"
     ]
    },
    {
     "name": "stderr",
     "output_type": "stream",
     "text": [
      "100%|██████████| 11/11 [00:04<00:00,  2.29it/s]\n",
      "100%|██████████| 11/11 [00:04<00:00,  2.30it/s]\n",
      "/Users/mohammadmahdi/Documents/test/nlp/lib/python3.12/site-packages/sklearn/metrics/_classification.py:1531: UndefinedMetricWarning: Precision is ill-defined and being set to 0.0 in labels with no predicted samples. Use `zero_division` parameter to control this behavior.\n",
      "  _warn_prf(average, modifier, f\"{metric.capitalize()} is\", len(result))\n",
      "/Users/mohammadmahdi/Documents/test/nlp/lib/python3.12/site-packages/sklearn/metrics/_classification.py:1531: UndefinedMetricWarning: Precision is ill-defined and being set to 0.0 in labels with no predicted samples. Use `zero_division` parameter to control this behavior.\n",
      "  _warn_prf(average, modifier, f\"{metric.capitalize()} is\", len(result))\n",
      "/Users/mohammadmahdi/Documents/test/nlp/lib/python3.12/site-packages/sklearn/metrics/_classification.py:1531: UndefinedMetricWarning: Precision is ill-defined and being set to 0.0 in labels with no predicted samples. Use `zero_division` parameter to control this behavior.\n",
      "  _warn_prf(average, modifier, f\"{metric.capitalize()} is\", len(result))\n",
      "/Users/mohammadmahdi/Documents/test/nlp/lib/python3.12/site-packages/transformers/training_args.py:1494: FutureWarning: `evaluation_strategy` is deprecated and will be removed in version 4.46 of 🤗 Transformers. Use `eval_strategy` instead\n",
      "  warnings.warn(\n",
      "/Users/mohammadmahdi/Documents/test/nlp/lib/python3.12/site-packages/transformers/training_args.py:1509: FutureWarning: using `no_cuda` is deprecated and will be removed in version 5.0 of 🤗 Transformers. Use `use_cpu` instead\n",
      "  warnings.warn(\n"
     ]
    },
    {
     "name": "stdout",
     "output_type": "stream",
     "text": [
      "Fold 2 Accuracy: 0.7083\n",
      "Fold 2 F1 Score: 0.5013\n",
      "                          precision    recall  f1-score   support\n",
      "\n",
      "                  Action       1.00      0.87      0.93        15\n",
      "               Adventure       1.00      0.50      0.67        10\n",
      "       Arts & Literature       0.00      0.00      0.00         7\n",
      "                  Comedy       0.54      1.00      0.70        53\n",
      "                   Crime       0.82      0.69      0.75        13\n",
      "    Culture & Traditions       0.00      0.00      0.00         5\n",
      "                   Drama       1.00      0.75      0.86        40\n",
      "                  Family       1.00      0.80      0.89         5\n",
      "                 History       0.50      0.25      0.33         4\n",
      "Human Interest & Society       0.00      0.00      0.00        10\n",
      "                 Romance       0.00      0.00      0.00         2\n",
      "                     War       0.80      1.00      0.89         4\n",
      "\n",
      "                accuracy                           0.71       168\n",
      "               macro avg       0.55      0.49      0.50       168\n",
      "            weighted avg       0.68      0.71      0.66       168\n",
      "\n"
     ]
    },
    {
     "name": "stderr",
     "output_type": "stream",
     "text": [
      "  2%|▏         | 10/420 [00:22<15:11,  2.22s/it]"
     ]
    },
    {
     "name": "stdout",
     "output_type": "stream",
     "text": [
      "{'loss': 0.7757, 'grad_norm': 3.7065844535827637, 'learning_rate': 1.0000000000000002e-06, 'epoch': 0.24}\n"
     ]
    },
    {
     "name": "stderr",
     "output_type": "stream",
     "text": [
      "  5%|▍         | 20/420 [00:44<14:48,  2.22s/it]"
     ]
    },
    {
     "name": "stdout",
     "output_type": "stream",
     "text": [
      "{'loss': 0.683, 'grad_norm': 3.5400047302246094, 'learning_rate': 2.0000000000000003e-06, 'epoch': 0.48}\n"
     ]
    },
    {
     "name": "stderr",
     "output_type": "stream",
     "text": [
      "  7%|▋         | 30/420 [01:06<14:24,  2.22s/it]"
     ]
    },
    {
     "name": "stdout",
     "output_type": "stream",
     "text": [
      "{'loss': 0.579, 'grad_norm': 20.380332946777344, 'learning_rate': 3e-06, 'epoch': 0.71}\n"
     ]
    },
    {
     "name": "stderr",
     "output_type": "stream",
     "text": [
      " 10%|▉         | 40/420 [01:28<13:52,  2.19s/it]"
     ]
    },
    {
     "name": "stdout",
     "output_type": "stream",
     "text": [
      "{'loss': 0.635, 'grad_norm': 3.181504726409912, 'learning_rate': 4.000000000000001e-06, 'epoch': 0.95}\n"
     ]
    },
    {
     "name": "stderr",
     "output_type": "stream",
     "text": [
      " 10%|█         | 42/420 [01:33<13:38,  2.17s/it]\n",
      " 10%|█         | 42/420 [01:38<13:38,  2.17s/it]"
     ]
    },
    {
     "name": "stdout",
     "output_type": "stream",
     "text": [
      "{'eval_loss': 0.6168863773345947, 'eval_runtime': 5.3485, 'eval_samples_per_second': 31.411, 'eval_steps_per_second': 2.057, 'epoch': 1.0}\n"
     ]
    },
    {
     "name": "stderr",
     "output_type": "stream",
     "text": [
      " 12%|█▏        | 50/420 [01:58<14:50,  2.41s/it]"
     ]
    },
    {
     "name": "stdout",
     "output_type": "stream",
     "text": [
      "{'loss': 0.6557, 'grad_norm': 3.5124361515045166, 'learning_rate': 5e-06, 'epoch': 1.19}\n"
     ]
    },
    {
     "name": "stderr",
     "output_type": "stream",
     "text": [
      " 14%|█▍        | 60/420 [02:20<13:24,  2.23s/it]"
     ]
    },
    {
     "name": "stdout",
     "output_type": "stream",
     "text": [
      "{'loss': 0.7059, 'grad_norm': 5.4030561447143555, 'learning_rate': 6e-06, 'epoch': 1.43}\n"
     ]
    },
    {
     "name": "stderr",
     "output_type": "stream",
     "text": [
      " 17%|█▋        | 70/420 [02:42<13:00,  2.23s/it]"
     ]
    },
    {
     "name": "stdout",
     "output_type": "stream",
     "text": [
      "{'loss': 0.6224, 'grad_norm': 2.2063920497894287, 'learning_rate': 7.000000000000001e-06, 'epoch': 1.67}\n"
     ]
    },
    {
     "name": "stderr",
     "output_type": "stream",
     "text": [
      " 19%|█▉        | 80/420 [03:05<12:37,  2.23s/it]"
     ]
    },
    {
     "name": "stdout",
     "output_type": "stream",
     "text": [
      "{'loss': 0.6265, 'grad_norm': 3.824903726577759, 'learning_rate': 8.000000000000001e-06, 'epoch': 1.9}\n"
     ]
    },
    {
     "name": "stderr",
     "output_type": "stream",
     "text": [
      " 20%|██        | 84/420 [03:14<12:18,  2.20s/it]\n",
      " 20%|██        | 84/420 [03:19<12:18,  2.20s/it]"
     ]
    },
    {
     "name": "stdout",
     "output_type": "stream",
     "text": [
      "{'eval_loss': 0.6120970845222473, 'eval_runtime': 5.3656, 'eval_samples_per_second': 31.311, 'eval_steps_per_second': 2.05, 'epoch': 2.0}\n"
     ]
    },
    {
     "name": "stderr",
     "output_type": "stream",
     "text": [
      " 21%|██▏       | 90/420 [03:34<14:19,  2.60s/it]"
     ]
    },
    {
     "name": "stdout",
     "output_type": "stream",
     "text": [
      "{'loss': 0.5813, 'grad_norm': 1.978850245475769, 'learning_rate': 9e-06, 'epoch': 2.14}\n"
     ]
    },
    {
     "name": "stderr",
     "output_type": "stream",
     "text": [
      " 24%|██▍       | 100/420 [03:57<12:02,  2.26s/it]"
     ]
    },
    {
     "name": "stdout",
     "output_type": "stream",
     "text": [
      "{'loss': 0.6969, 'grad_norm': 2.749202251434326, 'learning_rate': 1e-05, 'epoch': 2.38}\n"
     ]
    },
    {
     "name": "stderr",
     "output_type": "stream",
     "text": [
      " 26%|██▌       | 110/420 [04:19<11:34,  2.24s/it]"
     ]
    },
    {
     "name": "stdout",
     "output_type": "stream",
     "text": [
      "{'loss': 0.6376, 'grad_norm': 2.875206232070923, 'learning_rate': 1.1000000000000001e-05, 'epoch': 2.62}\n"
     ]
    },
    {
     "name": "stderr",
     "output_type": "stream",
     "text": [
      " 29%|██▊       | 120/420 [04:41<11:15,  2.25s/it]"
     ]
    },
    {
     "name": "stdout",
     "output_type": "stream",
     "text": [
      "{'loss': 0.5688, 'grad_norm': 2.1294326782226562, 'learning_rate': 1.2e-05, 'epoch': 2.86}\n"
     ]
    },
    {
     "name": "stderr",
     "output_type": "stream",
     "text": [
      " 30%|███       | 126/420 [04:55<10:48,  2.21s/it]\n",
      " 30%|███       | 126/420 [05:00<10:48,  2.21s/it]"
     ]
    },
    {
     "name": "stdout",
     "output_type": "stream",
     "text": [
      "{'eval_loss': 0.615329384803772, 'eval_runtime': 5.3879, 'eval_samples_per_second': 31.181, 'eval_steps_per_second': 2.042, 'epoch': 3.0}\n"
     ]
    },
    {
     "name": "stderr",
     "output_type": "stream",
     "text": [
      " 31%|███       | 130/420 [05:11<14:19,  2.96s/it]"
     ]
    },
    {
     "name": "stdout",
     "output_type": "stream",
     "text": [
      "{'loss': 0.6304, 'grad_norm': 3.501085042953491, 'learning_rate': 1.3000000000000001e-05, 'epoch': 3.1}\n"
     ]
    },
    {
     "name": "stderr",
     "output_type": "stream",
     "text": [
      " 33%|███▎      | 140/420 [05:33<10:28,  2.24s/it]"
     ]
    },
    {
     "name": "stdout",
     "output_type": "stream",
     "text": [
      "{'loss': 0.6234, 'grad_norm': 3.923253297805786, 'learning_rate': 1.4000000000000001e-05, 'epoch': 3.33}\n"
     ]
    },
    {
     "name": "stderr",
     "output_type": "stream",
     "text": [
      " 36%|███▌      | 150/420 [05:55<09:55,  2.21s/it]"
     ]
    },
    {
     "name": "stdout",
     "output_type": "stream",
     "text": [
      "{'loss': 0.5962, 'grad_norm': 2.5563905239105225, 'learning_rate': 1.5e-05, 'epoch': 3.57}\n"
     ]
    },
    {
     "name": "stderr",
     "output_type": "stream",
     "text": [
      " 38%|███▊      | 160/420 [06:18<09:42,  2.24s/it]"
     ]
    },
    {
     "name": "stdout",
     "output_type": "stream",
     "text": [
      "{'loss': 0.6524, 'grad_norm': 3.427191972732544, 'learning_rate': 1.6000000000000003e-05, 'epoch': 3.81}\n"
     ]
    },
    {
     "name": "stderr",
     "output_type": "stream",
     "text": [
      " 40%|████      | 168/420 [06:36<09:14,  2.20s/it]\n",
      " 40%|████      | 168/420 [06:41<09:14,  2.20s/it]"
     ]
    },
    {
     "name": "stdout",
     "output_type": "stream",
     "text": [
      "{'eval_loss': 0.6288901567459106, 'eval_runtime': 5.3836, 'eval_samples_per_second': 31.206, 'eval_steps_per_second': 2.043, 'epoch': 4.0}\n"
     ]
    },
    {
     "name": "stderr",
     "output_type": "stream",
     "text": [
      " 40%|████      | 170/420 [06:47<15:35,  3.74s/it]"
     ]
    },
    {
     "name": "stdout",
     "output_type": "stream",
     "text": [
      "{'loss': 0.6557, 'grad_norm': 3.099713087081909, 'learning_rate': 1.7000000000000003e-05, 'epoch': 4.05}\n"
     ]
    },
    {
     "name": "stderr",
     "output_type": "stream",
     "text": [
      " 43%|████▎     | 180/420 [07:10<09:08,  2.29s/it]"
     ]
    },
    {
     "name": "stdout",
     "output_type": "stream",
     "text": [
      "{'loss': 0.5395, 'grad_norm': 3.303675889968872, 'learning_rate': 1.8e-05, 'epoch': 4.29}\n"
     ]
    },
    {
     "name": "stderr",
     "output_type": "stream",
     "text": [
      " 45%|████▌     | 190/420 [07:32<08:35,  2.24s/it]"
     ]
    },
    {
     "name": "stdout",
     "output_type": "stream",
     "text": [
      "{'loss': 0.7219, 'grad_norm': 3.797179937362671, 'learning_rate': 1.9e-05, 'epoch': 4.52}\n"
     ]
    },
    {
     "name": "stderr",
     "output_type": "stream",
     "text": [
      " 48%|████▊     | 200/420 [07:55<08:13,  2.25s/it]"
     ]
    },
    {
     "name": "stdout",
     "output_type": "stream",
     "text": [
      "{'loss': 0.6215, 'grad_norm': 4.0152082443237305, 'learning_rate': 2e-05, 'epoch': 4.76}\n"
     ]
    },
    {
     "name": "stderr",
     "output_type": "stream",
     "text": [
      " 50%|█████     | 210/420 [08:17<07:44,  2.21s/it]"
     ]
    },
    {
     "name": "stdout",
     "output_type": "stream",
     "text": [
      "{'loss': 0.6331, 'grad_norm': 2.1716573238372803, 'learning_rate': 2.1e-05, 'epoch': 5.0}\n"
     ]
    },
    {
     "name": "stderr",
     "output_type": "stream",
     "text": [
      "\n",
      " 50%|█████     | 210/420 [08:22<07:44,  2.21s/it]"
     ]
    },
    {
     "name": "stdout",
     "output_type": "stream",
     "text": [
      "{'eval_loss': 0.6139042973518372, 'eval_runtime': 5.3767, 'eval_samples_per_second': 31.246, 'eval_steps_per_second': 2.046, 'epoch': 5.0}\n",
      "Stopping early\n"
     ]
    },
    {
     "name": "stderr",
     "output_type": "stream",
     "text": [
      " 50%|█████     | 210/420 [08:25<08:25,  2.41s/it]\n"
     ]
    },
    {
     "name": "stdout",
     "output_type": "stream",
     "text": [
      "{'train_runtime': 505.0834, 'train_samples_per_second': 13.285, 'train_steps_per_second': 0.832, 'train_loss': 0.6400887693677629, 'epoch': 5.0}\n"
     ]
    },
    {
     "name": "stderr",
     "output_type": "stream",
     "text": [
      "100%|██████████| 11/11 [00:04<00:00,  2.28it/s]\n"
     ]
    },
    {
     "name": "stdout",
     "output_type": "stream",
     "text": [
      "Stopping early\n"
     ]
    },
    {
     "name": "stderr",
     "output_type": "stream",
     "text": [
      "100%|██████████| 11/11 [00:04<00:00,  2.29it/s]\n",
      "/Users/mohammadmahdi/Documents/test/nlp/lib/python3.12/site-packages/sklearn/metrics/_classification.py:1531: UndefinedMetricWarning: Precision is ill-defined and being set to 0.0 in labels with no predicted samples. Use `zero_division` parameter to control this behavior.\n",
      "  _warn_prf(average, modifier, f\"{metric.capitalize()} is\", len(result))\n",
      "/Users/mohammadmahdi/Documents/test/nlp/lib/python3.12/site-packages/sklearn/metrics/_classification.py:1531: UndefinedMetricWarning: Precision is ill-defined and being set to 0.0 in labels with no predicted samples. Use `zero_division` parameter to control this behavior.\n",
      "  _warn_prf(average, modifier, f\"{metric.capitalize()} is\", len(result))\n",
      "/Users/mohammadmahdi/Documents/test/nlp/lib/python3.12/site-packages/sklearn/metrics/_classification.py:1531: UndefinedMetricWarning: Precision is ill-defined and being set to 0.0 in labels with no predicted samples. Use `zero_division` parameter to control this behavior.\n",
      "  _warn_prf(average, modifier, f\"{metric.capitalize()} is\", len(result))\n",
      "/Users/mohammadmahdi/Documents/test/nlp/lib/python3.12/site-packages/transformers/training_args.py:1494: FutureWarning: `evaluation_strategy` is deprecated and will be removed in version 4.46 of 🤗 Transformers. Use `eval_strategy` instead\n",
      "  warnings.warn(\n",
      "/Users/mohammadmahdi/Documents/test/nlp/lib/python3.12/site-packages/transformers/training_args.py:1509: FutureWarning: using `no_cuda` is deprecated and will be removed in version 5.0 of 🤗 Transformers. Use `use_cpu` instead\n",
      "  warnings.warn(\n"
     ]
    },
    {
     "name": "stdout",
     "output_type": "stream",
     "text": [
      "Fold 3 Accuracy: 0.7619\n",
      "Fold 3 F1 Score: 0.6120\n",
      "                          precision    recall  f1-score   support\n",
      "\n",
      "                  Action       1.00      0.93      0.97        15\n",
      "               Adventure       1.00      0.89      0.94         9\n",
      "       Arts & Literature       0.00      0.00      0.00         7\n",
      "                  Comedy       1.00      0.81      0.90        54\n",
      "                   Crime       1.00      0.85      0.92        13\n",
      "    Culture & Traditions       0.00      0.00      0.00         5\n",
      "                   Drama       0.50      1.00      0.67        40\n",
      "                  Family       1.00      0.80      0.89         5\n",
      "                 History       1.00      0.25      0.40         4\n",
      "Human Interest & Society       0.00      0.00      0.00         9\n",
      "                 Romance       1.00      0.50      0.67         2\n",
      "                     War       1.00      1.00      1.00         5\n",
      "\n",
      "                accuracy                           0.76       168\n",
      "               macro avg       0.71      0.59      0.61       168\n",
      "            weighted avg       0.76      0.76      0.73       168\n",
      "\n"
     ]
    },
    {
     "name": "stderr",
     "output_type": "stream",
     "text": [
      "  2%|▏         | 10/420 [00:22<15:17,  2.24s/it]"
     ]
    },
    {
     "name": "stdout",
     "output_type": "stream",
     "text": [
      "{'loss': 0.8303, 'grad_norm': 4.249312877655029, 'learning_rate': 1.0000000000000002e-06, 'epoch': 0.24}\n"
     ]
    },
    {
     "name": "stderr",
     "output_type": "stream",
     "text": [
      "  5%|▍         | 20/420 [00:44<14:50,  2.23s/it]"
     ]
    },
    {
     "name": "stdout",
     "output_type": "stream",
     "text": [
      "{'loss': 0.6113, 'grad_norm': 2.8505542278289795, 'learning_rate': 2.0000000000000003e-06, 'epoch': 0.48}\n"
     ]
    },
    {
     "name": "stderr",
     "output_type": "stream",
     "text": [
      "  7%|▋         | 30/420 [01:07<14:32,  2.24s/it]"
     ]
    },
    {
     "name": "stdout",
     "output_type": "stream",
     "text": [
      "{'loss': 0.7052, 'grad_norm': 3.5361413955688477, 'learning_rate': 3e-06, 'epoch': 0.71}\n"
     ]
    },
    {
     "name": "stderr",
     "output_type": "stream",
     "text": [
      " 10%|▉         | 40/420 [01:29<14:10,  2.24s/it]"
     ]
    },
    {
     "name": "stdout",
     "output_type": "stream",
     "text": [
      "{'loss': 0.596, 'grad_norm': 4.244141101837158, 'learning_rate': 4.000000000000001e-06, 'epoch': 0.95}\n"
     ]
    },
    {
     "name": "stderr",
     "output_type": "stream",
     "text": [
      " 10%|█         | 42/420 [01:33<14:04,  2.24s/it]\n",
      " 10%|█         | 42/420 [01:39<14:04,  2.24s/it]"
     ]
    },
    {
     "name": "stdout",
     "output_type": "stream",
     "text": [
      "{'eval_loss': 0.376281201839447, 'eval_runtime': 5.4299, 'eval_samples_per_second': 30.756, 'eval_steps_per_second': 2.026, 'epoch': 1.0}\n"
     ]
    },
    {
     "name": "stderr",
     "output_type": "stream",
     "text": [
      " 12%|█▏        | 50/420 [01:58<14:47,  2.40s/it]"
     ]
    },
    {
     "name": "stdout",
     "output_type": "stream",
     "text": [
      "{'loss': 0.6468, 'grad_norm': 2.985849142074585, 'learning_rate': 5e-06, 'epoch': 1.19}\n"
     ]
    },
    {
     "name": "stderr",
     "output_type": "stream",
     "text": [
      " 14%|█▍        | 60/420 [02:21<13:24,  2.24s/it]"
     ]
    },
    {
     "name": "stdout",
     "output_type": "stream",
     "text": [
      "{'loss': 0.6039, 'grad_norm': 3.5925347805023193, 'learning_rate': 6e-06, 'epoch': 1.43}\n"
     ]
    },
    {
     "name": "stderr",
     "output_type": "stream",
     "text": [
      " 17%|█▋        | 70/420 [02:43<13:03,  2.24s/it]"
     ]
    },
    {
     "name": "stdout",
     "output_type": "stream",
     "text": [
      "{'loss': 0.6809, 'grad_norm': 1.9282522201538086, 'learning_rate': 7.000000000000001e-06, 'epoch': 1.67}\n"
     ]
    },
    {
     "name": "stderr",
     "output_type": "stream",
     "text": [
      " 19%|█▉        | 80/420 [03:05<12:37,  2.23s/it]"
     ]
    },
    {
     "name": "stdout",
     "output_type": "stream",
     "text": [
      "{'loss': 0.8509, 'grad_norm': 21.736650466918945, 'learning_rate': 8.000000000000001e-06, 'epoch': 1.9}\n"
     ]
    },
    {
     "name": "stderr",
     "output_type": "stream",
     "text": [
      " 20%|██        | 84/420 [03:14<12:29,  2.23s/it]\n",
      " 20%|██        | 84/420 [03:20<12:29,  2.23s/it]"
     ]
    },
    {
     "name": "stdout",
     "output_type": "stream",
     "text": [
      "{'eval_loss': 0.37261679768562317, 'eval_runtime': 5.4308, 'eval_samples_per_second': 30.751, 'eval_steps_per_second': 2.025, 'epoch': 2.0}\n"
     ]
    },
    {
     "name": "stderr",
     "output_type": "stream",
     "text": [
      " 21%|██▏       | 90/420 [03:35<14:19,  2.60s/it]"
     ]
    },
    {
     "name": "stdout",
     "output_type": "stream",
     "text": [
      "{'loss': 0.5175, 'grad_norm': 2.0494258403778076, 'learning_rate': 9e-06, 'epoch': 2.14}\n"
     ]
    },
    {
     "name": "stderr",
     "output_type": "stream",
     "text": [
      " 24%|██▍       | 100/420 [03:57<12:01,  2.25s/it]"
     ]
    },
    {
     "name": "stdout",
     "output_type": "stream",
     "text": [
      "{'loss': 0.6618, 'grad_norm': 4.306191921234131, 'learning_rate': 1e-05, 'epoch': 2.38}\n"
     ]
    },
    {
     "name": "stderr",
     "output_type": "stream",
     "text": [
      " 26%|██▌       | 110/420 [04:20<11:33,  2.24s/it]"
     ]
    },
    {
     "name": "stdout",
     "output_type": "stream",
     "text": [
      "{'loss': 0.5903, 'grad_norm': 1.472614049911499, 'learning_rate': 1.1000000000000001e-05, 'epoch': 2.62}\n"
     ]
    },
    {
     "name": "stderr",
     "output_type": "stream",
     "text": [
      " 29%|██▊       | 120/420 [04:42<11:10,  2.24s/it]"
     ]
    },
    {
     "name": "stdout",
     "output_type": "stream",
     "text": [
      "{'loss': 0.7633, 'grad_norm': 2.370964288711548, 'learning_rate': 1.2e-05, 'epoch': 2.86}\n"
     ]
    },
    {
     "name": "stderr",
     "output_type": "stream",
     "text": [
      " 30%|███       | 126/420 [04:55<10:54,  2.23s/it]\n",
      " 30%|███       | 126/420 [05:01<10:54,  2.23s/it]"
     ]
    },
    {
     "name": "stdout",
     "output_type": "stream",
     "text": [
      "{'eval_loss': 0.3828143775463104, 'eval_runtime': 5.4401, 'eval_samples_per_second': 30.698, 'eval_steps_per_second': 2.022, 'epoch': 3.0}\n"
     ]
    },
    {
     "name": "stderr",
     "output_type": "stream",
     "text": [
      " 31%|███       | 130/420 [05:12<14:27,  2.99s/it]"
     ]
    },
    {
     "name": "stdout",
     "output_type": "stream",
     "text": [
      "{'loss': 0.7343, 'grad_norm': 3.739964008331299, 'learning_rate': 1.3000000000000001e-05, 'epoch': 3.1}\n"
     ]
    },
    {
     "name": "stderr",
     "output_type": "stream",
     "text": [
      " 33%|███▎      | 140/420 [05:34<10:32,  2.26s/it]"
     ]
    },
    {
     "name": "stdout",
     "output_type": "stream",
     "text": [
      "{'loss': 0.6899, 'grad_norm': 2.736110210418701, 'learning_rate': 1.4000000000000001e-05, 'epoch': 3.33}\n"
     ]
    },
    {
     "name": "stderr",
     "output_type": "stream",
     "text": [
      " 36%|███▌      | 150/420 [05:56<10:09,  2.26s/it]"
     ]
    },
    {
     "name": "stdout",
     "output_type": "stream",
     "text": [
      "{'loss': 0.6066, 'grad_norm': 1.3100920915603638, 'learning_rate': 1.5e-05, 'epoch': 3.57}\n"
     ]
    },
    {
     "name": "stderr",
     "output_type": "stream",
     "text": [
      " 38%|███▊      | 160/420 [06:19<09:47,  2.26s/it]"
     ]
    },
    {
     "name": "stdout",
     "output_type": "stream",
     "text": [
      "{'loss': 0.6869, 'grad_norm': 2.3165409564971924, 'learning_rate': 1.6000000000000003e-05, 'epoch': 3.81}\n"
     ]
    },
    {
     "name": "stderr",
     "output_type": "stream",
     "text": [
      " 40%|████      | 168/420 [06:37<09:27,  2.25s/it]\n",
      " 40%|████      | 168/420 [06:42<09:27,  2.25s/it]"
     ]
    },
    {
     "name": "stdout",
     "output_type": "stream",
     "text": [
      "{'eval_loss': 0.3843174874782562, 'eval_runtime': 5.4421, 'eval_samples_per_second': 30.687, 'eval_steps_per_second': 2.021, 'epoch': 4.0}\n"
     ]
    },
    {
     "name": "stderr",
     "output_type": "stream",
     "text": [
      " 40%|████      | 170/420 [06:49<15:42,  3.77s/it]"
     ]
    },
    {
     "name": "stdout",
     "output_type": "stream",
     "text": [
      "{'loss': 0.7473, 'grad_norm': 3.339690923690796, 'learning_rate': 1.7000000000000003e-05, 'epoch': 4.05}\n"
     ]
    },
    {
     "name": "stderr",
     "output_type": "stream",
     "text": [
      " 43%|████▎     | 180/420 [07:11<09:10,  2.29s/it]"
     ]
    },
    {
     "name": "stdout",
     "output_type": "stream",
     "text": [
      "{'loss': 0.7311, 'grad_norm': 2.182380437850952, 'learning_rate': 1.8e-05, 'epoch': 4.29}\n"
     ]
    },
    {
     "name": "stderr",
     "output_type": "stream",
     "text": [
      " 45%|████▌     | 190/420 [07:34<08:37,  2.25s/it]"
     ]
    },
    {
     "name": "stdout",
     "output_type": "stream",
     "text": [
      "{'loss': 0.5503, 'grad_norm': 3.1300268173217773, 'learning_rate': 1.9e-05, 'epoch': 4.52}\n"
     ]
    },
    {
     "name": "stderr",
     "output_type": "stream",
     "text": [
      " 48%|████▊     | 200/420 [07:56<08:14,  2.25s/it]"
     ]
    },
    {
     "name": "stdout",
     "output_type": "stream",
     "text": [
      "{'loss': 0.7281, 'grad_norm': 4.01417875289917, 'learning_rate': 2e-05, 'epoch': 4.76}\n"
     ]
    },
    {
     "name": "stderr",
     "output_type": "stream",
     "text": [
      " 50%|█████     | 210/420 [08:19<07:50,  2.24s/it]"
     ]
    },
    {
     "name": "stdout",
     "output_type": "stream",
     "text": [
      "{'loss': 0.7074, 'grad_norm': 2.900841474533081, 'learning_rate': 2.1e-05, 'epoch': 5.0}\n"
     ]
    },
    {
     "name": "stderr",
     "output_type": "stream",
     "text": [
      "\n",
      " 50%|█████     | 210/420 [08:24<07:50,  2.24s/it]"
     ]
    },
    {
     "name": "stdout",
     "output_type": "stream",
     "text": [
      "{'eval_loss': 0.35992884635925293, 'eval_runtime': 5.4296, 'eval_samples_per_second': 30.758, 'eval_steps_per_second': 2.026, 'epoch': 5.0}\n"
     ]
    },
    {
     "name": "stderr",
     "output_type": "stream",
     "text": [
      " 52%|█████▏    | 220/420 [08:49<07:48,  2.34s/it]"
     ]
    },
    {
     "name": "stdout",
     "output_type": "stream",
     "text": [
      "{'loss': 0.7014, 'grad_norm': 3.231520652770996, 'learning_rate': 2.2000000000000003e-05, 'epoch': 5.24}\n"
     ]
    },
    {
     "name": "stderr",
     "output_type": "stream",
     "text": [
      " 55%|█████▍    | 230/420 [09:11<07:08,  2.26s/it]"
     ]
    },
    {
     "name": "stdout",
     "output_type": "stream",
     "text": [
      "{'loss': 0.7714, 'grad_norm': 2.8796327114105225, 'learning_rate': 2.3000000000000003e-05, 'epoch': 5.48}\n"
     ]
    },
    {
     "name": "stderr",
     "output_type": "stream",
     "text": [
      " 57%|█████▋    | 240/420 [09:34<06:45,  2.25s/it]"
     ]
    },
    {
     "name": "stdout",
     "output_type": "stream",
     "text": [
      "{'loss': 0.6292, 'grad_norm': 3.0493929386138916, 'learning_rate': 2.4e-05, 'epoch': 5.71}\n"
     ]
    },
    {
     "name": "stderr",
     "output_type": "stream",
     "text": [
      " 60%|█████▉    | 250/420 [09:56<06:23,  2.25s/it]"
     ]
    },
    {
     "name": "stdout",
     "output_type": "stream",
     "text": [
      "{'loss': 0.6058, 'grad_norm': 1.897780179977417, 'learning_rate': 2.5e-05, 'epoch': 5.95}\n"
     ]
    },
    {
     "name": "stderr",
     "output_type": "stream",
     "text": [
      " 60%|██████    | 252/420 [10:01<06:15,  2.24s/it]\n",
      " 60%|██████    | 252/420 [10:06<06:15,  2.24s/it]"
     ]
    },
    {
     "name": "stdout",
     "output_type": "stream",
     "text": [
      "{'eval_loss': 0.39224493503570557, 'eval_runtime': 5.4435, 'eval_samples_per_second': 30.679, 'eval_steps_per_second': 2.021, 'epoch': 6.0}\n"
     ]
    },
    {
     "name": "stderr",
     "output_type": "stream",
     "text": [
      " 62%|██████▏   | 260/420 [10:26<06:28,  2.43s/it]"
     ]
    },
    {
     "name": "stdout",
     "output_type": "stream",
     "text": [
      "{'loss': 0.6543, 'grad_norm': 8.079841613769531, 'learning_rate': 2.6000000000000002e-05, 'epoch': 6.19}\n"
     ]
    },
    {
     "name": "stderr",
     "output_type": "stream",
     "text": [
      " 64%|██████▍   | 270/420 [10:49<05:38,  2.26s/it]"
     ]
    },
    {
     "name": "stdout",
     "output_type": "stream",
     "text": [
      "{'loss': 0.6896, 'grad_norm': 2.5905349254608154, 'learning_rate': 2.7000000000000002e-05, 'epoch': 6.43}\n"
     ]
    },
    {
     "name": "stderr",
     "output_type": "stream",
     "text": [
      " 67%|██████▋   | 280/420 [11:12<05:16,  2.26s/it]"
     ]
    },
    {
     "name": "stdout",
     "output_type": "stream",
     "text": [
      "{'loss': 0.7984, 'grad_norm': 2.642439603805542, 'learning_rate': 2.8000000000000003e-05, 'epoch': 6.67}\n"
     ]
    },
    {
     "name": "stderr",
     "output_type": "stream",
     "text": [
      " 69%|██████▉   | 290/420 [11:34<04:53,  2.26s/it]"
     ]
    },
    {
     "name": "stdout",
     "output_type": "stream",
     "text": [
      "{'loss': 0.6134, 'grad_norm': 4.086263179779053, 'learning_rate': 2.9e-05, 'epoch': 6.9}\n"
     ]
    },
    {
     "name": "stderr",
     "output_type": "stream",
     "text": [
      " 70%|███████   | 294/420 [11:43<04:43,  2.25s/it]\n",
      " 70%|███████   | 294/420 [11:49<04:43,  2.25s/it]"
     ]
    },
    {
     "name": "stdout",
     "output_type": "stream",
     "text": [
      "{'eval_loss': 0.459529846906662, 'eval_runtime': 5.4128, 'eval_samples_per_second': 30.853, 'eval_steps_per_second': 2.032, 'epoch': 7.0}\n"
     ]
    },
    {
     "name": "stderr",
     "output_type": "stream",
     "text": [
      " 71%|███████▏  | 300/420 [12:04<05:14,  2.62s/it]"
     ]
    },
    {
     "name": "stdout",
     "output_type": "stream",
     "text": [
      "{'loss': 0.7957, 'grad_norm': 3.761820077896118, 'learning_rate': 3e-05, 'epoch': 7.14}\n"
     ]
    },
    {
     "name": "stderr",
     "output_type": "stream",
     "text": [
      " 74%|███████▍  | 310/420 [12:26<04:07,  2.25s/it]"
     ]
    },
    {
     "name": "stdout",
     "output_type": "stream",
     "text": [
      "{'loss': 0.7669, 'grad_norm': 4.301452159881592, 'learning_rate': 3.1e-05, 'epoch': 7.38}\n"
     ]
    },
    {
     "name": "stderr",
     "output_type": "stream",
     "text": [
      " 76%|███████▌  | 320/420 [12:49<03:43,  2.23s/it]"
     ]
    },
    {
     "name": "stdout",
     "output_type": "stream",
     "text": [
      "{'loss': 0.6483, 'grad_norm': 12.591852188110352, 'learning_rate': 3.2000000000000005e-05, 'epoch': 7.62}\n"
     ]
    },
    {
     "name": "stderr",
     "output_type": "stream",
     "text": [
      " 79%|███████▊  | 330/420 [13:11<03:20,  2.23s/it]"
     ]
    },
    {
     "name": "stdout",
     "output_type": "stream",
     "text": [
      "{'loss': 0.6579, 'grad_norm': 13.547269821166992, 'learning_rate': 3.3e-05, 'epoch': 7.86}\n"
     ]
    },
    {
     "name": "stderr",
     "output_type": "stream",
     "text": [
      " 80%|████████  | 336/420 [13:25<03:08,  2.24s/it]\n",
      " 80%|████████  | 336/420 [13:30<03:08,  2.24s/it]"
     ]
    },
    {
     "name": "stdout",
     "output_type": "stream",
     "text": [
      "{'eval_loss': 0.4248335063457489, 'eval_runtime': 5.4213, 'eval_samples_per_second': 30.804, 'eval_steps_per_second': 2.029, 'epoch': 8.0}\n",
      "Stopping early\n"
     ]
    },
    {
     "name": "stderr",
     "output_type": "stream",
     "text": [
      " 80%|████████  | 336/420 [13:33<03:23,  2.42s/it]\n"
     ]
    },
    {
     "name": "stdout",
     "output_type": "stream",
     "text": [
      "{'train_runtime': 813.2249, 'train_samples_per_second': 8.263, 'train_steps_per_second': 0.516, 'train_loss': 0.6857440457457588, 'epoch': 8.0}\n"
     ]
    },
    {
     "name": "stderr",
     "output_type": "stream",
     "text": [
      "100%|██████████| 11/11 [00:04<00:00,  2.27it/s]\n"
     ]
    },
    {
     "name": "stdout",
     "output_type": "stream",
     "text": [
      "Stopping early\n"
     ]
    },
    {
     "name": "stderr",
     "output_type": "stream",
     "text": [
      "100%|██████████| 11/11 [00:04<00:00,  2.26it/s]"
     ]
    },
    {
     "name": "stdout",
     "output_type": "stream",
     "text": [
      "Fold 4 Accuracy: 0.8563\n",
      "Fold 4 F1 Score: 0.7340\n",
      "                          precision    recall  f1-score   support\n",
      "\n",
      "                  Action       1.00      1.00      1.00        16\n",
      "               Adventure       1.00      1.00      1.00         9\n",
      "       Arts & Literature       1.00      0.14      0.25         7\n",
      "                  Comedy       1.00      0.94      0.97        54\n",
      "                   Crime       1.00      0.92      0.96        13\n",
      "    Culture & Traditions       0.00      0.00      0.00         4\n",
      "                   Drama       0.62      1.00      0.77        40\n",
      "                  Family       1.00      1.00      1.00         5\n",
      "                 History       1.00      0.75      0.86         4\n",
      "Human Interest & Society       0.00      0.00      0.00         9\n",
      "                 Romance       1.00      1.00      1.00         2\n",
      "                     War       1.00      1.00      1.00         4\n",
      "\n",
      "                accuracy                           0.86       167\n",
      "               macro avg       0.80      0.73      0.73       167\n",
      "            weighted avg       0.83      0.86      0.82       167\n",
      "\n",
      "Overall Accuracy: 0.6272 ± 0.1907\n",
      "Overall F1 Score: 0.4238 ± 0.2501\n"
     ]
    },
    {
     "name": "stderr",
     "output_type": "stream",
     "text": [
      "\n",
      "/Users/mohammadmahdi/Documents/test/nlp/lib/python3.12/site-packages/sklearn/metrics/_classification.py:1531: UndefinedMetricWarning: Precision is ill-defined and being set to 0.0 in labels with no predicted samples. Use `zero_division` parameter to control this behavior.\n",
      "  _warn_prf(average, modifier, f\"{metric.capitalize()} is\", len(result))\n",
      "/Users/mohammadmahdi/Documents/test/nlp/lib/python3.12/site-packages/sklearn/metrics/_classification.py:1531: UndefinedMetricWarning: Precision is ill-defined and being set to 0.0 in labels with no predicted samples. Use `zero_division` parameter to control this behavior.\n",
      "  _warn_prf(average, modifier, f\"{metric.capitalize()} is\", len(result))\n",
      "/Users/mohammadmahdi/Documents/test/nlp/lib/python3.12/site-packages/sklearn/metrics/_classification.py:1531: UndefinedMetricWarning: Precision is ill-defined and being set to 0.0 in labels with no predicted samples. Use `zero_division` parameter to control this behavior.\n",
      "  _warn_prf(average, modifier, f\"{metric.capitalize()} is\", len(result))\n"
     ]
    }
   ],
   "source": [
    "import pandas as pd\n",
    "from sklearn.model_selection import StratifiedKFold\n",
    "from sklearn.utils import resample\n",
    "from sklearn.preprocessing import LabelEncoder\n",
    "from sklearn.metrics import accuracy_score, f1_score, classification_report\n",
    "from transformers import BertTokenizer, BertForSequenceClassification, Trainer, TrainingArguments, TrainerCallback\n",
    "import torch\n",
    "from torch.utils.data import Dataset\n",
    "import numpy as np\n",
    "import os\n",
    "\n",
    "df = pd.read_csv('dataset.csv')\n",
    "\n",
    "# Handle class imbalance\n",
    "df_majority = df[df.Genre == 'Drama']\n",
    "df_minority = df[df.Genre != 'Drama']\n",
    "df_majority_downsampled = resample(df_majority, replace=False, n_samples=200, random_state=42)\n",
    "df_balanced = pd.concat([df_majority_downsampled, df_minority])\n",
    "genre_counts = df_balanced['Genre'].value_counts()\n",
    "df_filtered = df_balanced[df_balanced['Genre'].isin(genre_counts[genre_counts >= 10].index)]\n",
    "\n",
    "class MovieDataset(Dataset):\n",
    "    def __init__(self, texts, labels, tokenizer, max_len):\n",
    "        self.texts = texts\n",
    "        self.labels = labels\n",
    "        self.tokenizer = tokenizer\n",
    "        self.max_len = max_len\n",
    "\n",
    "    def __len__(self):\n",
    "        return len(self.texts)\n",
    "\n",
    "    def __getitem__(self, item):\n",
    "        text = str(self.texts[item])\n",
    "        label = self.labels[item]\n",
    "        encoding = self.tokenizer.encode_plus(\n",
    "            text,\n",
    "            add_special_tokens=True,\n",
    "            max_length=self.max_len,\n",
    "            return_token_type_ids=False,\n",
    "            padding='max_length',\n",
    "            truncation=True,\n",
    "            return_attention_mask=True,\n",
    "            return_tensors='pt',\n",
    "        )\n",
    "        return {\n",
    "            'text': text,\n",
    "            'input_ids': encoding['input_ids'].flatten(),\n",
    "            'attention_mask': encoding['attention_mask'].flatten(),\n",
    "            'labels': torch.tensor(label, dtype=torch.long)\n",
    "        }\n",
    "\n",
    "# Load the tokenizer and model\n",
    "tokenizer = BertTokenizer.from_pretrained('HooshvareLab/bert-fa-base-uncased')\n",
    "model = BertForSequenceClassification.from_pretrained('HooshvareLab/bert-fa-base-uncased', num_labels=len(genre_counts[genre_counts >= 10]))\n",
    "\n",
    "# Encode labels\n",
    "label_encoder = LabelEncoder()\n",
    "df_filtered['Genre'] = label_encoder.fit_transform(df_filtered['Genre'])\n",
    "\n",
    "# Define cross-validation\n",
    "skf = StratifiedKFold(n_splits=5)\n",
    "\n",
    "# Early Stopping callback\n",
    "class EarlyStoppingCallback(TrainerCallback):\n",
    "    def __init__(self, early_stopping_patience=3):\n",
    "        self.early_stopping_patience = early_stopping_patience\n",
    "        self.best_loss = None\n",
    "        self.patience_counter = 0\n",
    "\n",
    "    def on_evaluate(self, args, state, control, **kwargs):\n",
    "        logs = kwargs['metrics']\n",
    "        if self.best_loss is None or logs['eval_loss'] < self.best_loss:\n",
    "            self.best_loss = logs['eval_loss']\n",
    "            self.patience_counter = 0\n",
    "        else:\n",
    "            self.patience_counter += 1\n",
    "\n",
    "        if self.patience_counter >= self.early_stopping_patience:\n",
    "            print(\"Stopping early\")\n",
    "            control.should_training_stop = True\n",
    "\n",
    "def train_and_evaluate(train_index, test_index, fold_num, device):\n",
    "    train_df = df_filtered.iloc[train_index]\n",
    "    test_df = df_filtered.iloc[test_index]\n",
    "\n",
    "    train_dataset = MovieDataset(\n",
    "        texts=train_df['Content_1'].tolist(),\n",
    "        labels=train_df['Genre'].tolist(),\n",
    "        tokenizer=tokenizer,\n",
    "        max_len=128\n",
    "    )\n",
    "\n",
    "    test_dataset = MovieDataset(\n",
    "        texts=test_df['Content_1'].tolist(),\n",
    "        labels=test_df['Genre'].tolist(),\n",
    "        tokenizer=tokenizer,\n",
    "        max_len=128\n",
    "    )\n",
    "\n",
    "    # Define the training arguments\n",
    "    training_args = TrainingArguments(\n",
    "        output_dir=f'./results/fold_{fold_num}',\n",
    "        num_train_epochs=10,\n",
    "        per_device_train_batch_size=16,\n",
    "        per_device_eval_batch_size=16,\n",
    "        warmup_steps=500,\n",
    "        weight_decay=0.01,\n",
    "        logging_dir=f'./logs/fold_{fold_num}',\n",
    "        logging_steps=10,\n",
    "        evaluation_strategy='epoch',\n",
    "        save_strategy='epoch',\n",
    "        learning_rate=5e-5,\n",
    "        load_best_model_at_end=True,\n",
    "        metric_for_best_model=\"eval_loss\",\n",
    "        report_to='none',\n",
    "        no_cuda=False if torch.cuda.is_available() else True\n",
    "    )\n",
    "\n",
    "    # Create a Trainer instance\n",
    "    trainer = Trainer(\n",
    "        model=model,\n",
    "        args=training_args,\n",
    "        train_dataset=train_dataset,\n",
    "        eval_dataset=test_dataset,\n",
    "        tokenizer=tokenizer,\n",
    "        callbacks=[EarlyStoppingCallback(early_stopping_patience=3)]\n",
    "    )\n",
    "\n",
    "    # Train the model\n",
    "    trainer.train()\n",
    "\n",
    "    # Evaluate the model on the test set\n",
    "    results = trainer.evaluate(test_dataset)\n",
    "\n",
    "    # Predict on the test set\n",
    "    predictions, labels, _ = trainer.predict(test_dataset)\n",
    "    predictions = predictions.argmax(axis=1)\n",
    "\n",
    "    # Calculate accuracy\n",
    "    accuracy = accuracy_score(labels, predictions)\n",
    "\n",
    "    # Calculate F1 score\n",
    "    f1 = f1_score(labels, predictions, average='macro')\n",
    "\n",
    "    print(f'Fold {fold_num} Accuracy: {accuracy:.4f}')\n",
    "    print(f'Fold {fold_num} F1 Score: {f1:.4f}')\n",
    "    print(classification_report(labels, predictions, target_names=label_encoder.classes_))\n",
    "\n",
    "    return accuracy, f1\n",
    "\n",
    "# Cross-validation loop\n",
    "accuracies = []\n",
    "f1_scores = []\n",
    "\n",
    "# Assuming 4 GPUs\n",
    "num_gpus = 4\n",
    "\n",
    "for fold_num, (train_index, test_index) in enumerate(skf.split(df_filtered, df_filtered['Genre'])):\n",
    "    device = f'cuda:{fold_num % num_gpus}' if torch.cuda.is_available() else 'cpu'\n",
    "    os.environ[\"CUDA_VISIBLE_DEVICES\"] = str(fold_num % num_gpus)\n",
    "    \n",
    "    accuracy, f1 = train_and_evaluate(train_index, test_index, fold_num, device)\n",
    "    accuracies.append(accuracy)\n",
    "    f1_scores.append(f1)\n",
    "\n",
    "# Print overall results\n",
    "print(f'Overall Accuracy: {np.mean(accuracies):.4f} ± {np.std(accuracies):.4f}')\n",
    "print(f'Overall F1 Score: {np.mean(f1_scores):.4f} ± {np.std(f1_scores):.4f}')\n"
   ]
  },
  {
   "cell_type": "code",
   "execution_count": 1,
   "metadata": {},
   "outputs": [
    {
     "name": "stderr",
     "output_type": "stream",
     "text": [
      "/home/fateme/.local/lib/python3.10/site-packages/tqdm/auto.py:21: TqdmWarning: IProgress not found. Please update jupyter and ipywidgets. See https://ipywidgets.readthedocs.io/en/stable/user_install.html\n",
      "  from .autonotebook import tqdm as notebook_tqdm\n",
      "Some weights of BertForSequenceClassification were not initialized from the model checkpoint at HooshvareLab/bert-fa-base-uncased and are newly initialized: ['classifier.bias', 'classifier.weight']\n",
      "You should probably TRAIN this model on a down-stream task to be able to use it for predictions and inference.\n",
      "/home/fateme/.local/lib/python3.10/site-packages/transformers/training_args.py:1494: FutureWarning: `evaluation_strategy` is deprecated and will be removed in version 4.46 of 🤗 Transformers. Use `eval_strategy` instead\n",
      "  warnings.warn(\n"
     ]
    },
    {
     "data": {
      "text/html": [
       "\n",
       "    <div>\n",
       "      \n",
       "      <progress value='489' max='489' style='width:300px; height:20px; vertical-align: middle;'></progress>\n",
       "      [489/489 4:54:13, Epoch 3/3]\n",
       "    </div>\n",
       "    <table border=\"1\" class=\"dataframe\">\n",
       "  <thead>\n",
       " <tr style=\"text-align: left;\">\n",
       "      <th>Epoch</th>\n",
       "      <th>Training Loss</th>\n",
       "      <th>Validation Loss</th>\n",
       "      <th>Accuracy</th>\n",
       "    </tr>\n",
       "  </thead>\n",
       "  <tbody>\n",
       "    <tr>\n",
       "      <td>1</td>\n",
       "      <td>0.756800</td>\n",
       "      <td>1.036945</td>\n",
       "      <td>0.572222</td>\n",
       "    </tr>\n",
       "    <tr>\n",
       "      <td>2</td>\n",
       "      <td>0.471000</td>\n",
       "      <td>1.249054</td>\n",
       "      <td>0.600000</td>\n",
       "    </tr>\n",
       "    <tr>\n",
       "      <td>3</td>\n",
       "      <td>0.349400</td>\n",
       "      <td>1.596724</td>\n",
       "      <td>0.655556</td>\n",
       "    </tr>\n",
       "  </tbody>\n",
       "</table><p>"
      ],
      "text/plain": [
       "<IPython.core.display.HTML object>"
      ]
     },
     "metadata": {},
     "output_type": "display_data"
    },
    {
     "data": {
      "text/html": [],
      "text/plain": [
       "<IPython.core.display.HTML object>"
      ]
     },
     "metadata": {},
     "output_type": "display_data"
    },
    {
     "name": "stdout",
     "output_type": "stream",
     "text": [
      "{'eval_loss': 1.7978065013885498, 'eval_accuracy': 0.6648148148148148, 'eval_runtime': 10.3628, 'eval_samples_per_second': 10.422, 'eval_steps_per_second': 0.675, 'epoch': 3.0}\n"
     ]
    },
    {
     "name": "stderr",
     "output_type": "stream",
     "text": [
      "/home/fateme/.local/lib/python3.10/site-packages/sklearn/metrics/_classification.py:1517: UndefinedMetricWarning: Precision is ill-defined and being set to 0.0 in labels with no predicted samples. Use `zero_division` parameter to control this behavior.\n",
      "  _warn_prf(average, modifier, f\"{metric.capitalize()} is\", len(result))\n"
     ]
    },
    {
     "name": "stdout",
     "output_type": "stream",
     "text": [
      "Accuracy: 0.6648148148148148\n",
      "F1 Score (Macro): 0.49181370692919345\n",
      "F1 Score (Micro): 0.6648148148148148\n",
      "Precision (Macro): 0.4878179650238474\n",
      "Recall (Macro): 0.50363636363636365\n",
      "Confusion Matrix:\n",
      "[[ 6  1  0  0  5]\n",
      " [ 0  8  0  0 10]\n",
      " [ 3  0  3  0  4]\n",
      " [ 0  0  0  2  1]\n",
      " [ 7  7  1  0 51]]\n"
     ]
    },
    {
     "data": {
      "image/png": "[encoded data removed]",
      "text/plain": [
       "<Figure size 640x480 with 2 Axes>"
      ]
     },
     "metadata": {},
     "output_type": "display_data"
    },
    {
     "name": "stdout",
     "output_type": "stream",
     "text": [
      "Predicted genre: Drama\n"
     ]
    }
   ],
   "source": [
    "import pandas as pd\n",
    "import numpy as np\n",
    "import matplotlib.pyplot as plt\n",
    "from sklearn.model_selection import train_test_split\n",
    "from transformers import AutoTokenizer, AutoModelForSequenceClassification, Trainer, TrainingArguments\n",
    "import torch\n",
    "from torch.utils.data import Dataset, DataLoader\n",
    "from imblearn.over_sampling import RandomOverSampler\n",
    "from sklearn.preprocessing import LabelEncoder\n",
    "from sklearn.metrics import confusion_matrix, ConfusionMatrixDisplay, accuracy_score, f1_score, precision_score, recall_score\n",
    "from hazm import Normalizer, word_tokenize, stopwords_list, Stemmer\n",
    "\n",
    "file_path='dataset.xlsx'\n",
    "df = pd.read_excel(file_path)\n",
    "df = df[['Content_1', 'Genre']].dropna()\n",
    "\n",
    "normalizer = Normalizer()\n",
    "stop_words = set(stopwords_list())\n",
    "stemmer = Stemmer()\n",
    "\n",
    "def normalize_text(text):\n",
    "    text = normalizer.normalize(text)\n",
    "    words = word_tokenize(text)\n",
    "    words = [word for word in words if word not in stop_words]\n",
    "    words = [stemmer.stem(word) for word in words]\n",
    "    return ' '.join(words)\n",
    "\n",
    "df['Content_1'] = df['Content_1'].astype(str).fillna('')\n",
    "\n",
    "# Normalize the content using Hazm\n",
    "df['Content_1'] = df['Content_1'].apply(normalize_text)\n",
    "\n",
    "genre_mapping = {\n",
    "    'Drama': ['Drama', 'Human Interest & Society', 'Family', 'Romance'],\n",
    "    'Comedy': ['Comedy', 'Arts & Literature', 'Music', 'Animation'],\n",
    "    'Action': ['Action', 'Adventure', 'Thriller', 'War'],\n",
    "    'Crime': ['Crime', 'Mystery', 'Experimental', 'Horror'],\n",
    "    'Culture': ['History', 'Culture & Traditions', 'Architecture & Urbanism', 'Portrait', 'Nature & Wildlife']\n",
    "}\n",
    "\n",
    "# Function to map genres to main genres\n",
    "def map_genre(genre):\n",
    "    for main_genre, similar_genres in genre_mapping.items():\n",
    "        if genre in similar_genres:\n",
    "            return main_genre\n",
    "    return None\n",
    "\n",
    "# Apply the mapping\n",
    "df['Main_Genre'] = df['Genre'].apply(map_genre)\n",
    "\n",
    "label_encoder = LabelEncoder()\n",
    "df['Genre_encoded'] = label_encoder.fit_transform(df['Main_Genre'])\n",
    "\n",
    "train_df, temp_df = train_test_split(df, test_size=0.2, random_state=42, stratify=df['Genre_encoded'])\n",
    "val_df, test_df = train_test_split(temp_df, test_size=0.5, random_state=42, stratify=temp_df['Genre_encoded'])\n",
    "\n",
    "ros = RandomOverSampler(random_state=42)\n",
    "X_train_resampled, y_train_resampled = ros.fit_resample(train_df[['Content_1']], train_df['Genre_encoded'])\n",
    "train_df_resampled = pd.DataFrame({'Content_1': X_train_resampled['Content_1'], 'Genre_encoded': y_train_resampled})\n",
    "\n",
    "tokenizer = AutoTokenizer.from_pretrained('HooshvareLab/bert-fa-base-uncased')\n",
    "\n",
    "\n",
    "class PersianMovieGenreDataset(Dataset):\n",
    "    def __init__(self, texts, labels, tokenizer, max_length=512):\n",
    "        self.texts = texts.reset_index(drop=True)  # Ensure proper indexing\n",
    "        self.labels = labels.reset_index(drop=True)\n",
    "        self.tokenizer = tokenizer\n",
    "        self.max_length = max_length\n",
    "\n",
    "    def __len__(self):\n",
    "        return len(self.texts)\n",
    "\n",
    "    def __getitem__(self, idx):\n",
    "        text = self.texts.iloc[idx]\n",
    "        label = self.labels.iloc[idx]\n",
    "        encoding = self.tokenizer.encode_plus(\n",
    "            text,\n",
    "            add_special_tokens=True,\n",
    "            max_length=self.max_length,\n",
    "            return_token_type_ids=False,\n",
    "            padding='max_length',\n",
    "            truncation=True,\n",
    "            return_attention_mask=True,\n",
    "            return_tensors='pt'\n",
    "        )\n",
    "        return {\n",
    "            'input_ids': encoding['input_ids'].flatten(),\n",
    "            'attention_mask': encoding['attention_mask'].flatten(),\n",
    "            'labels': torch.tensor(label, dtype=torch.long)\n",
    "        }\n",
    "\n",
    "train_dataset = PersianMovieGenreDataset(train_df_resampled['Content_1'], train_df_resampled['Genre_encoded'], tokenizer)\n",
    "val_dataset = PersianMovieGenreDataset(val_df['Content_1'], val_df['Genre_encoded'], tokenizer)\n",
    "test_dataset = PersianMovieGenreDataset(test_df['Content_1'], test_df['Genre_encoded'], tokenizer)\n",
    "\n",
    "batch_size = 16\n",
    "train_loader = DataLoader(train_dataset, batch_size=batch_size, shuffle=True)\n",
    "val_loader = DataLoader(val_dataset, batch_size=batch_size)\n",
    "test_loader = DataLoader(test_dataset, batch_size=batch_size)\n",
    "\n",
    "model = AutoModelForSequenceClassification.from_pretrained('HooshvareLab/bert-fa-base-uncased', num_labels=len(label_encoder.classes_))\n",
    "model.to(torch.device(\"cuda\" if torch.cuda.is_available() else \"cpu\"))\n",
    "\n",
    "training_args = TrainingArguments(\n",
    "    output_dir='./results',\n",
    "    num_train_epochs=3,\n",
    "    per_device_train_batch_size=batch_size,\n",
    "    per_device_eval_batch_size=batch_size,\n",
    "    warmup_steps=500,\n",
    "    weight_decay=0.01,\n",
    "    logging_dir='./logs',\n",
    "    logging_steps=10,\n",
    "    evaluation_strategy=\"epoch\",\n",
    "    save_strategy=\"epoch\",\n",
    "    load_best_model_at_end=True,\n",
    "    metric_for_best_model=\"accuracy\"\n",
    ")\n",
    "\n",
    "trainer = Trainer(\n",
    "    model=model,\n",
    "    args=training_args,\n",
    "    train_dataset=train_dataset,\n",
    "    eval_dataset=val_dataset,\n",
    "    tokenizer=tokenizer,\n",
    "    compute_metrics=lambda p: {'accuracy': accuracy_score(p.label_ids, np.argmax(p.predictions, axis=1))}\n",
    ")\n",
    "\n",
    "trainer.train()\n",
    "\n",
    "results = trainer.evaluate(test_dataset)\n",
    "print(results)\n",
    "\n",
    "model.save_pretrained('./parsbert_movie_genre_classifier')\n",
    "tokenizer.save_pretrained('./parsbert_movie_genre_classifier')\n",
    "\n",
    "predictions = trainer.predict(test_dataset)\n",
    "y_true = test_df['Genre_encoded'].to_numpy()\n",
    "y_pred = np.argmax(predictions.predictions, axis=1)\n",
    "\n",
    "accuracy = accuracy_score(y_true, y_pred)\n",
    "f1_macro = f1_score(y_true, y_pred, average='macro')\n",
    "f1_micro = f1_score(y_true, y_pred, average='micro')\n",
    "precision = precision_score(y_true, y_pred, average='macro')\n",
    "recall = recall_score(y_true, y_pred, average='macro')\n",
    "conf_matrix = confusion_matrix(y_true, y_pred)\n",
    "\n",
    "# Print metrics\n",
    "print(f'Accuracy: {accuracy}')\n",
    "print(f'F1 Score (Macro): {f1_macro}')\n",
    "print(f'F1 Score (Micro): {f1_micro}')\n",
    "print(f'Precision (Macro): {precision}')\n",
    "print(f'Recall (Macro): {recall}')\n",
    "print('Confusion Matrix:')\n",
    "print(conf_matrix)\n",
    "\n",
    "# Plot confusion matrix\n",
    "disp = ConfusionMatrixDisplay(confusion_matrix=conf_matrix, display_labels=label_encoder.classes_)\n",
    "disp.plot(cmap=plt.cm.Blues)\n",
    "plt.title('Confusion Matrix')\n",
    "plt.show()\n",
    "\n",
    "def predict_genre(summary, model, tokenizer, device):\n",
    "    model.eval()\n",
    "    inputs = tokenizer(summary, return_tensors=\"pt\", truncation=True, padding=True, max_length=512).to(device)\n",
    "    with torch.no_grad():\n",
    "        logits = model(inputs['input_ids'], attention_mask=inputs['attention_mask']).logits\n",
    "    probs = torch.nn.functional.softmax(logits, dim=-1)\n",
    "    predicted_class = torch.argmax(probs, dim=-1).item()\n",
    "    return label_encoder.inverse_transform([predicted_class])[0]\n",
    "\n",
    "# Example usage\n",
    "\n",
    "summary = \"سالار از طریق چوب بری قاچاق امرار معاش می کند. او یک بار هنگام قطع درخت، دستگیر، اره موتوری اش ضبط و روانه زندان می شود تا دوران محکومیت یک ساله اش را سپری کند. باجی همسر، جلال پسر، ماجان دختر - اعضای خانواده سالار - در غیاب او باید هزینه اره را به صاحب آن میرزا آقا بپردازند. ضمن اینکه ، قبل از واقعه اخیر قرار بوده تا ماجان با لطیف، سرباز اهری پاسگاه روستا ازدواج کند اما بعد از دستگیری سالار، چون باجی، لطیف را هنگام دستگیری شوهرش دیده است، پس در مورد ازدواج لطیف و ماجان تغییر عقیده می دهد. اما لطیف با پیگیری مستمر سعی می کند تا باجی را متقاعد به بی گناهی خود در دستگیری سالار و ازدواج خود با ماجان قانعش کند. جلال که رفتار نامناسب میرزا آقا را با مادرش به خاطر اره ضبط شده، می بیند، با او که رئیس قاچاقچیان چوب جنگل است توافق می کند تا درازای جبران خسارت وی، هر روزه برای فرج و عطا - قاچاقچیان چوب - اره را به میان جنگل ببرد. تحرکات پنهانی و غیبت های مستمر جلال، موجب حساسیت و نگرانی خانواده اش می شود. وقتی ماجان این نگرانی را با لطیف در میان می گذارد، او به تعقیب جلال در یک صبح زود می پردازد، اما لو میرود و توسط قاچاقچیان گرفتار و مورد ضرب و شتم قرار گرفته و جانش را ازدست میدهد. جلال، که در جریان این حادثه به بی گناهی لطیف و خیانت فرج آگاه شده می گریزد. فرج که دریافته او شاهد واقعه بوده، به تعقیبش می پردازد اما او را نمی یابد. باجی و ماجان که از ماوقع آگاه شده اند در جستجوری جلال برمی آیند و او را در درمانگاه روستا با چهره ای سخت پریشان و در هم می یابند، این زمانی است که سالار از زندان آزاد شده و به روستا بازگشته است. او به محض ورود به روستا سراغ لطیف را می گیرد.\"\n",
    "predicted_genre = predict_genre(summary, model, tokenizer, torch.device(\"cuda\" if torch.cuda.is_available() else \"cpu\"))\n",
    "print(f\"Predicted genre: {predicted_genre}\")"
   ]
  },
  {
   "cell_type": "markdown",
   "metadata": {},
   "source": [
    "### BERT Model for Persian Movie Genre Classification\n",
    "\n",
    "1. **Data Preparation:**\n",
    "   - **Loading and Preprocessing the Dataset:**\n",
    "     - The dataset is loaded from an Excel file (`dataset.xlsx`), focusing on the `Content_1` (movie summaries) and `Genre` columns, with missing values dropped.\n",
    "   - **Text Normalization:**\n",
    "     - Persian text is normalized using the `hazm` library, which includes removing stopwords and stemming.\n",
    "   - **Genre Mapping:**\n",
    "     - Genres are mapped to main genres (Drama, Comedy, Action, Crime, Culture) using a predefined dictionary. Rows with unmapped genres are excluded.\n",
    "\n",
    "2. **Label Encoding:**\n",
    "   - The main genres are converted to numerical labels using `LabelEncoder`.\n",
    "\n",
    "3. **Train, Validation, and Test Split:**\n",
    "   - The dataset is split into training (80%), validation (10%), and test (10%) sets, stratified by genre to maintain class balance.\n",
    "\n",
    "4. **Balancing the Dataset:**\n",
    "   - The training set is balanced using RandomOverSampler to handle class imbalance, creating a resampled training set.\n",
    "\n",
    "5. **Tokenization:**\n",
    "   - Summaries are tokenized using a Persian BERT tokenizer (`HooshvareLab/bert-fa-base-uncased`) to create input IDs and attention masks for the BERT model.\n",
    "\n",
    "6. **Dataset and DataLoader:**\n",
    "   - A custom `Dataset` class (`PersianMovieGenreDataset`) is defined to handle the tokenized inputs and labels, enabling efficient data loading with `DataLoader`.\n",
    "\n",
    "### Model Definition\n",
    "\n",
    "7. **Custom BERT Model:**\n",
    "   - The `AutoModelForSequenceClassification` from Hugging Face is used, initialized with the number of genres as output labels.\n",
    "   - The model is transferred to GPU if available.\n",
    "\n",
    "### Model Training\n",
    "\n",
    "8. **Training Arguments:**\n",
    "   - Training is set up with `TrainingArguments`, specifying parameters like batch size, number of epochs, learning rate, weight decay, and evaluation strategy.\n",
    "   - A `Trainer` is instantiated with the model, training arguments, datasets, tokenizer, and a custom metrics function for computing accuracy.\n",
    "\n",
    "9. **Training and Evaluation:**\n",
    "   - The model is trained for 3 epochs, with evaluation at each epoch to save the best model based on validation accuracy.\n",
    "   - After training, the model is evaluated on the test set, with results printed and the model saved for future use.\n",
    "\n",
    "### Model Evaluation\n",
    "\n",
    "10. **Metrics Calculation:**\n",
    "    - Predictions on the test set are used to compute accuracy, F1 score (macro and micro), precision, recall, and a confusion matrix.\n",
    "    - The confusion matrix is plotted to visualize the model's performance across different classes.\n",
    "\n",
    "### Inference Function\n",
    "\n",
    "11. **predict_genre Function:**\n",
    "    - A function to predict the genre of a given summary using the trained model. It tokenizes the input, processes it through the model, and returns the predicted genre.\n",
    "\n",
    "### Example Usage\n",
    "\n",
    "12. **Example Prediction:**\n",
    "    - An example movie summary is provided, and the `predict_genre` function is used to predict its genre, demonstrating the model's inference capability.\n"
   ]
  }
 ],
 "metadata": {
  "kernelspec": {
   "display_name": "Python 3",
   "language": "python",
   "name": "python3"
  },
  "language_info": {
   "codemirror_mode": {
    "name": "ipython",
    "version": 3
   },
   "file_extension": ".py",
   "mimetype": "text/x-python",
   "name": "python",
   "nbconvert_exporter": "python",
   "pygments_lexer": "ipython3",
   "version": "3.10.12"
  }
 },
 "nbformat": 4,
 "nbformat_minor": 2
}
