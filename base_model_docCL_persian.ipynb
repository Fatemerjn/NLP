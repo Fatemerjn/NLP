{
 "cells": [
  {
   "cell_type": "code",
   "execution_count": 10,
   "metadata": {},
   "outputs": [
    {
     "data": {
      "text/plain": [
       "(                                                Link            EN_title  \\\n",
       " 0  https://www.imvbox.com/watch-persian-movie-ira...   Local Anaesthetic   \n",
       " 1  https://www.imvbox.com/watch-persian-movie-ira...         Disturbance   \n",
       " 2  https://www.imvbox.com/watch-persian-movie-ira...           Highlight   \n",
       " 3  https://www.imvbox.com/watch-persian-movie-ira...               Gilda   \n",
       " 4  https://www.imvbox.com/watch-persian-movie-ira...  Atmosphere Station   \n",
       " \n",
       "      PENGLISH_title   PERSIAN_title  \\\n",
       " 0  Bi Hessie Mozeie    بی‌حسی موضعی   \n",
       " 1         Ashoftegi        آشفته گی   \n",
       " 2           Haylayt         هایلایت   \n",
       " 3            Geelda           گیلدا   \n",
       " 4  Istgahe Atmosfer  ایستگاه اتمسفر   \n",
       " \n",
       "                                            Content_1  \\\n",
       " 0  جلال‌، دانشجوی سابق رشته فلسفه، متوجه می‌شود خ...   \n",
       " 1  «آشفته‌گی» رئالیستی و اجتماعی نیست. یک فیلم اس...   \n",
       " 2  یک تصادف اتومبیل آدم‌هایی را در تقابل با هم قر...   \n",
       " 3  گیلدا ماجرای زنی به نام «گیلدا» را روایت می کن...   \n",
       " 4  این فیلم روایت گر داستان زندگی زوج جوانی به اس...   \n",
       " \n",
       "                                            Content_2  Score  Year  Genre Time  \n",
       " 0  Jalal, a dropouts philosophy student, realizes...    4.8  2018  Drama   73  \n",
       " 1  After the murder of his rich twin brother, Bar...    3.8  2018  Crime   78  \n",
       " 2  A man and a woman are have a car accident and ...    4.4  2017  Drama   77  \n",
       " 3  Gilda who owns a restaurant has a terrible nig...    3.8  2018  Drama   79  \n",
       " 4  Vahid and Marjan are a young couple who have g...    5.6  2017  Drama   85  ,\n",
       "                                                 Link            EN_title  \\\n",
       " 0  https://www.imvbox.com/watch-persian-movie-ira...   Local Anaesthetic   \n",
       " 1  https://www.imvbox.com/watch-persian-movie-ira...         Disturbance   \n",
       " 2  https://www.imvbox.com/watch-persian-movie-ira...           Highlight   \n",
       " 3  https://www.imvbox.com/watch-persian-movie-ira...               Gilda   \n",
       " 4  https://www.imvbox.com/watch-persian-movie-ira...  Atmosphere Station   \n",
       " \n",
       "      PENGLISH_title   PERSIAN_title  \\\n",
       " 0  Bi Hessie Mozeie    بی‌حسی موضعی   \n",
       " 1         Ashoftegi        آشفته گی   \n",
       " 2           Haylayt         هایلایت   \n",
       " 3            Geelda           گیلدا   \n",
       " 4  Istgahe Atmosfer  ایستگاه اتمسفر   \n",
       " \n",
       "                                            Content_1  \\\n",
       " 0  جلال‌، دانشجوی سابق رشته فلسفه، متوجه می‌شود خ...   \n",
       " 1  «آشفته‌گی» رئالیستی و اجتماعی نیست. یک فیلم اس...   \n",
       " 2  یک تصادف اتومبیل آدم‌هایی را در تقابل با هم قر...   \n",
       " 3  گیلدا ماجرای زنی به نام «گیلدا» را روایت می کن...   \n",
       " 4  این فیلم روایت گر داستان زندگی زوج جوانی به اس...   \n",
       " \n",
       "                                            Content_2  Score    Year  Genre  \\\n",
       " 0  Jalal, a dropouts philosophy student, realizes...    4.8  2018.0  Drama   \n",
       " 1  After the murder of his rich twin brother, Bar...    3.8  2018.0  Crime   \n",
       " 2  A man and a woman are have a car accident and ...    4.4  2017.0  Drama   \n",
       " 3  Gilda who owns a restaurant has a terrible nig...    3.8  2018.0  Drama   \n",
       " 4  Vahid and Marjan are a young couple who have g...    5.6  2017.0  Drama   \n",
       " \n",
       "    Time  \n",
       " 0  73.0  \n",
       " 1  78.0  \n",
       " 2  77.0  \n",
       " 3  79.0  \n",
       " 4  85.0  )"
      ]
     },
     "execution_count": 10,
     "metadata": {},
     "output_type": "execute_result"
    }
   ],
   "source": [
    "import pandas as pd\n",
    "\n",
    "# Load the dataset\n",
    "csv_dataset_path = 'dataset.csv'\n",
    "xlsx_dataset_path = 'dataset.xlsx'\n",
    "\n",
    "# Read the CSV file\n",
    "csv_df = pd.read_csv(csv_dataset_path)\n",
    "\n",
    "# Read the Excel file\n",
    "xlsx_df = pd.read_excel(xlsx_dataset_path)\n",
    "\n",
    "# Display the first few rows of both datasets to understand their structure\n",
    "csv_df.head(), xlsx_df.head()\n"
   ]
  },
  {
   "cell_type": "code",
   "execution_count": 6,
   "metadata": {},
   "outputs": [
    {
     "name": "stdout",
     "output_type": "stream",
     "text": [
      "Logistic Regression Accuracy: 0.3452\n",
      "                          precision    recall  f1-score   support\n",
      "\n",
      "                  Action       0.00      0.00      0.00        15\n",
      "               Adventure       0.00      0.00      0.00        10\n",
      "       Arts & Literature       0.00      0.00      0.00         7\n",
      "                  Comedy       0.34      0.94      0.50        54\n",
      "                   Crime       0.00      0.00      0.00        13\n",
      "    Culture & Traditions       0.00      0.00      0.00         5\n",
      "                   Drama       0.37      0.17      0.24        40\n",
      "                  Family       0.00      0.00      0.00         5\n",
      "                 History       0.00      0.00      0.00         4\n",
      "Human Interest & Society       0.00      0.00      0.00         9\n",
      "                 Romance       0.00      0.00      0.00         2\n",
      "                     War       0.00      0.00      0.00         4\n",
      "\n",
      "                accuracy                           0.35       168\n",
      "               macro avg       0.06      0.09      0.06       168\n",
      "            weighted avg       0.20      0.35      0.22       168\n",
      "\n"
     ]
    },
    {
     "name": "stderr",
     "output_type": "stream",
     "text": [
      "c:\\Users\\Fateme\\AppData\\Local\\Programs\\Python\\Python312\\Lib\\site-packages\\sklearn\\metrics\\_classification.py:1531: UndefinedMetricWarning: Precision is ill-defined and being set to 0.0 in labels with no predicted samples. Use `zero_division` parameter to control this behavior.\n",
      "  _warn_prf(average, modifier, f\"{metric.capitalize()} is\", len(result))\n",
      "c:\\Users\\Fateme\\AppData\\Local\\Programs\\Python\\Python312\\Lib\\site-packages\\sklearn\\metrics\\_classification.py:1531: UndefinedMetricWarning: Precision is ill-defined and being set to 0.0 in labels with no predicted samples. Use `zero_division` parameter to control this behavior.\n",
      "  _warn_prf(average, modifier, f\"{metric.capitalize()} is\", len(result))\n",
      "c:\\Users\\Fateme\\AppData\\Local\\Programs\\Python\\Python312\\Lib\\site-packages\\sklearn\\metrics\\_classification.py:1531: UndefinedMetricWarning: Precision is ill-defined and being set to 0.0 in labels with no predicted samples. Use `zero_division` parameter to control this behavior.\n",
      "  _warn_prf(average, modifier, f\"{metric.capitalize()} is\", len(result))\n"
     ]
    }
   ],
   "source": [
    "# Logistic Regression\n",
    "lr_model = LogisticRegression(max_iter=1000)\n",
    "lr_model.fit(X_train_tfidf, y_train)\n",
    "\n",
    "# Predict\n",
    "y_pred_lr = lr_model.predict(X_test_tfidf)\n",
    "\n",
    "# Evaluate\n",
    "accuracy_lr = accuracy_score(y_test, y_pred_lr)\n",
    "print(f'Logistic Regression Accuracy: {accuracy_lr:.4f}')\n",
    "print(classification_report(y_test, y_pred_lr, target_names=label_encoder.classes_))"
   ]
  },
  {
   "cell_type": "code",
   "execution_count": 12,
   "metadata": {},
   "outputs": [
    {
     "data": {
      "text/plain": [
       "(Genre\n",
       " Drama        537\n",
       " Comedy       177\n",
       " Action        56\n",
       " Crime         46\n",
       " Adventure     37\n",
       " Name: count, dtype: int64,\n",
       " (681, 10),\n",
       " (86, 10),\n",
       " (86, 10))"
      ]
     },
     "execution_count": 12,
     "metadata": {},
     "output_type": "execute_result"
    }
   ],
   "source": [
    "# Handle missing values by dropping rows with missing content or title\n",
    "cleaned_df = csv_df.dropna(subset=['Content_1', 'Content_2', 'PERSIAN_title', 'PENGLISH_title', 'Time'])\n",
    "\n",
    "# Select top 5 genres with the highest counts\n",
    "top_genres = cleaned_df['Genre'].value_counts().nlargest(5).index\n",
    "\n",
    "# Filter the dataset to only include rows with the selected genres\n",
    "balanced_df = cleaned_df[cleaned_df['Genre'].isin(top_genres)]\n",
    "\n",
    "# Re-check the genre distribution after filtering\n",
    "balanced_genre_distribution = balanced_df['Genre'].value_counts()\n",
    "\n",
    "# Split the dataset into training (80%), validation (10%), and test (10%)\n",
    "from sklearn.model_selection import train_test_split\n",
    "\n",
    "# Split into train (90%) and test (10%)\n",
    "train_val_df, test_df = train_test_split(balanced_df, test_size=0.1, stratify=balanced_df['Genre'], random_state=42)\n",
    "\n",
    "# Further split train into training (80%) and validation (10%)\n",
    "train_df, val_df = train_test_split(train_val_df, test_size=0.1111, stratify=train_val_df['Genre'], random_state=42)\n",
    "\n",
    "balanced_genre_distribution, train_df.shape, val_df.shape, test_df.shape\n"
   ]
  },
  {
   "cell_type": "code",
   "execution_count": 15,
   "metadata": {},
   "outputs": [
    {
     "name": "stderr",
     "output_type": "stream",
     "text": [
      "c:\\Users\\Fateme\\AppData\\Local\\Programs\\Python\\Python312\\Lib\\site-packages\\sklearn\\metrics\\_classification.py:1531: UndefinedMetricWarning: Precision is ill-defined and being set to 0.0 in labels with no predicted samples. Use `zero_division` parameter to control this behavior.\n",
      "  _warn_prf(average, modifier, f\"{metric.capitalize()} is\", len(result))\n",
      "c:\\Users\\Fateme\\AppData\\Local\\Programs\\Python\\Python312\\Lib\\site-packages\\sklearn\\metrics\\_classification.py:1531: UndefinedMetricWarning: Precision is ill-defined and being set to 0.0 in labels with no predicted samples. Use `zero_division` parameter to control this behavior.\n",
      "  _warn_prf(average, modifier, f\"{metric.capitalize()} is\", len(result))\n",
      "c:\\Users\\Fateme\\AppData\\Local\\Programs\\Python\\Python312\\Lib\\site-packages\\sklearn\\metrics\\_classification.py:1531: UndefinedMetricWarning: Precision is ill-defined and being set to 0.0 in labels with no predicted samples. Use `zero_division` parameter to control this behavior.\n",
      "  _warn_prf(average, modifier, f\"{metric.capitalize()} is\", len(result))\n",
      "c:\\Users\\Fateme\\AppData\\Local\\Programs\\Python\\Python312\\Lib\\site-packages\\sklearn\\metrics\\_classification.py:1531: UndefinedMetricWarning: Precision is ill-defined and being set to 0.0 in labels with no predicted samples. Use `zero_division` parameter to control this behavior.\n",
      "  _warn_prf(average, modifier, f\"{metric.capitalize()} is\", len(result))\n",
      "c:\\Users\\Fateme\\AppData\\Local\\Programs\\Python\\Python312\\Lib\\site-packages\\sklearn\\metrics\\_classification.py:1531: UndefinedMetricWarning: Precision is ill-defined and being set to 0.0 in labels with no predicted samples. Use `zero_division` parameter to control this behavior.\n",
      "  _warn_prf(average, modifier, f\"{metric.capitalize()} is\", len(result))\n",
      "c:\\Users\\Fateme\\AppData\\Local\\Programs\\Python\\Python312\\Lib\\site-packages\\sklearn\\metrics\\_classification.py:1531: UndefinedMetricWarning: Precision is ill-defined and being set to 0.0 in labels with no predicted samples. Use `zero_division` parameter to control this behavior.\n",
      "  _warn_prf(average, modifier, f\"{metric.capitalize()} is\", len(result))\n",
      "c:\\Users\\Fateme\\AppData\\Local\\Programs\\Python\\Python312\\Lib\\site-packages\\sklearn\\metrics\\_classification.py:1531: UndefinedMetricWarning: Precision is ill-defined and being set to 0.0 in labels with no predicted samples. Use `zero_division` parameter to control this behavior.\n",
      "  _warn_prf(average, modifier, f\"{metric.capitalize()} is\", len(result))\n",
      "c:\\Users\\Fateme\\AppData\\Local\\Programs\\Python\\Python312\\Lib\\site-packages\\sklearn\\metrics\\_classification.py:1531: UndefinedMetricWarning: Precision is ill-defined and being set to 0.0 in labels with no predicted samples. Use `zero_division` parameter to control this behavior.\n",
      "  _warn_prf(average, modifier, f\"{metric.capitalize()} is\", len(result))\n",
      "c:\\Users\\Fateme\\AppData\\Local\\Programs\\Python\\Python312\\Lib\\site-packages\\sklearn\\metrics\\_classification.py:1531: UndefinedMetricWarning: Precision is ill-defined and being set to 0.0 in labels with no predicted samples. Use `zero_division` parameter to control this behavior.\n",
      "  _warn_prf(average, modifier, f\"{metric.capitalize()} is\", len(result))\n",
      "c:\\Users\\Fateme\\AppData\\Local\\Programs\\Python\\Python312\\Lib\\site-packages\\sklearn\\metrics\\_classification.py:1531: UndefinedMetricWarning: Precision is ill-defined and being set to 0.0 in labels with no predicted samples. Use `zero_division` parameter to control this behavior.\n",
      "  _warn_prf(average, modifier, f\"{metric.capitalize()} is\", len(result))\n"
     ]
    },
    {
     "name": "stdout",
     "output_type": "stream",
     "text": [
      "                 Model  Accuracy Mean  Accuracy Std  Precision Mean  \\\n",
      "0          Naive Bayes       0.629959      0.003057        0.125992   \n",
      "1  Logistic Regression       0.631430      0.001846        0.166177   \n",
      "2           Linear SVM       0.628521      0.014199        0.288494   \n",
      "\n",
      "   Precision Std  Recall Mean  Recall Std  F1 Score Mean  F1 Score Std  \n",
      "0       0.000611     0.200000    0.000000       0.154594      0.000461  \n",
      "1       0.079875     0.201429    0.002857       0.157493      0.005430  \n",
      "2       0.071546     0.218031    0.007969       0.194966      0.015130  \n"
     ]
    },
    {
     "name": "stderr",
     "output_type": "stream",
     "text": [
      "c:\\Users\\Fateme\\AppData\\Local\\Programs\\Python\\Python312\\Lib\\site-packages\\sklearn\\metrics\\_classification.py:1531: UndefinedMetricWarning: Precision is ill-defined and being set to 0.0 in labels with no predicted samples. Use `zero_division` parameter to control this behavior.\n",
      "  _warn_prf(average, modifier, f\"{metric.capitalize()} is\", len(result))\n",
      "c:\\Users\\Fateme\\AppData\\Local\\Programs\\Python\\Python312\\Lib\\site-packages\\sklearn\\metrics\\_classification.py:1531: UndefinedMetricWarning: Precision is ill-defined and being set to 0.0 in labels with no predicted samples. Use `zero_division` parameter to control this behavior.\n",
      "  _warn_prf(average, modifier, f\"{metric.capitalize()} is\", len(result))\n",
      "c:\\Users\\Fateme\\AppData\\Local\\Programs\\Python\\Python312\\Lib\\site-packages\\sklearn\\metrics\\_classification.py:1531: UndefinedMetricWarning: Precision is ill-defined and being set to 0.0 in labels with no predicted samples. Use `zero_division` parameter to control this behavior.\n",
      "  _warn_prf(average, modifier, f\"{metric.capitalize()} is\", len(result))\n",
      "c:\\Users\\Fateme\\AppData\\Local\\Programs\\Python\\Python312\\Lib\\site-packages\\sklearn\\metrics\\_classification.py:1531: UndefinedMetricWarning: Precision is ill-defined and being set to 0.0 in labels with no predicted samples. Use `zero_division` parameter to control this behavior.\n",
      "  _warn_prf(average, modifier, f\"{metric.capitalize()} is\", len(result))\n",
      "c:\\Users\\Fateme\\AppData\\Local\\Programs\\Python\\Python312\\Lib\\site-packages\\sklearn\\metrics\\_classification.py:1531: UndefinedMetricWarning: Precision is ill-defined and being set to 0.0 in labels with no predicted samples. Use `zero_division` parameter to control this behavior.\n",
      "  _warn_prf(average, modifier, f\"{metric.capitalize()} is\", len(result))\n"
     ]
    }
   ],
   "source": [
    "import pandas as pd\n",
    "from sklearn.feature_extraction.text import TfidfVectorizer\n",
    "from sklearn.model_selection import cross_val_score\n",
    "from sklearn.naive_bayes import MultinomialNB\n",
    "from sklearn.linear_model import LogisticRegression\n",
    "from sklearn.svm import LinearSVC\n",
    "from sklearn.metrics import accuracy_score, f1_score, precision_score, recall_score, confusion_matrix\n",
    "import numpy as np\n",
    "\n",
    "# Prepare the data\n",
    "X_train = train_df['Content_1']\n",
    "y_train = train_df['Genre']\n",
    "\n",
    "X_test = test_df['Content_1']\n",
    "y_test = test_df['Genre']\n",
    "\n",
    "# Transform text data into TF-IDF vectors\n",
    "tfidf_vectorizer = TfidfVectorizer(max_features=5000, stop_words='english')\n",
    "X_train_tfidf = tfidf_vectorizer.fit_transform(X_train)\n",
    "X_test_tfidf = tfidf_vectorizer.transform(X_test)\n",
    "\n",
    "# Define models\n",
    "models = {\n",
    "    \"Naive Bayes\": MultinomialNB(),\n",
    "    \"Logistic Regression\": LogisticRegression(max_iter=1000),\n",
    "    \"Linear SVM\": LinearSVC()\n",
    "}\n",
    "\n",
    "# Evaluate models using cross-validation and report mean and std of accuracy, precision, recall, and f1\n",
    "results = []\n",
    "for model_name, model in models.items():\n",
    "    cv_accuracy = cross_val_score(model, X_train_tfidf, y_train, cv=5, scoring='accuracy')\n",
    "    cv_precision = cross_val_score(model, X_train_tfidf, y_train, cv=5, scoring='precision_macro')\n",
    "    cv_recall = cross_val_score(model, X_train_tfidf, y_train, cv=5, scoring='recall_macro')\n",
    "    cv_f1 = cross_val_score(model, X_train_tfidf, y_train, cv=5, scoring='f1_macro')\n",
    "    \n",
    "    results.append({\n",
    "        \"Model\": model_name,\n",
    "        \"Accuracy Mean\": cv_accuracy.mean(),\n",
    "        \"Accuracy Std\": cv_accuracy.std(),\n",
    "        \"Precision Mean\": cv_precision.mean(),\n",
    "        \"Precision Std\": cv_precision.std(),\n",
    "        \"Recall Mean\": cv_recall.mean(),\n",
    "        \"Recall Std\": cv_recall.std(),\n",
    "        \"F1 Score Mean\": cv_f1.mean(),\n",
    "        \"F1 Score Std\": cv_f1.std()\n",
    "    })\n",
    "\n",
    "# Convert results to DataFrame for better visualization\n",
    "results_df = pd.DataFrame(results)\n",
    "\n",
    "# Display the results\n",
    "print(results_df)\n"
   ]
  },
  {
   "cell_type": "code",
   "execution_count": null,
   "metadata": {},
   "outputs": [],
   "source": []
  }
 ],
 "metadata": {
  "kernelspec": {
   "display_name": "Python 3",
   "language": "python",
   "name": "python3"
  },
  "language_info": {
   "codemirror_mode": {
    "name": "ipython",
    "version": 3
   },
   "file_extension": ".py",
   "mimetype": "text/x-python",
   "name": "python",
   "nbconvert_exporter": "python",
   "pygments_lexer": "ipython3",
   "version": "3.12.3"
  }
 },
 "nbformat": 4,
 "nbformat_minor": 2
}
